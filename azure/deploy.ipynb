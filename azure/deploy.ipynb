{
  "cells": [
    {
      "cell_type": "code",
      "source": [
        "# load imports and workspace\r\n",
        "\r\n",
        "import azureml.core\r\n",
        "from azureml.core import Workspace\r\n",
        "from azureml.core.webservice import AciWebservice, Webservice\r\n",
        "from azureml.core.model import InferenceConfig\r\n",
        "from azureml.core.environment import Environment\r\n",
        "from azureml.core.model import Model\r\n",
        "from azureml.core.conda_dependencies import CondaDependencies\r\n",
        "import os\r\n",
        "\r\n",
        "ws = Workspace.from_config()\r\n",
        "\r\n",
        "print(ws.name, ws.location, ws.resource_group, sep='\\t')\r\n",
        "print(\"Azure ML SDK Version: \", azureml.core.VERSION)"
      ],
      "outputs": [
        {
          "output_type": "stream",
          "name": "stdout",
          "text": "OpenClassrooms\tfrancecentral\tCalculators\nAzure ML SDK Version:  1.34.0\n"
        }
      ],
      "execution_count": 1,
      "metadata": {
        "gather": {
          "logged": 1635518253442
        }
      }
    },
    {
      "cell_type": "code",
      "source": [
        "# create environment\r\n",
        "\r\n",
        "def reg_env():\r\n",
        "    env = Environment('dl-env')\r\n",
        "    cd = CondaDependencies.create(pip_packages=['azureml-dataset-runtime[pandas,fuse]',\r\n",
        "                                                'azureml-defaults',\r\n",
        "                                                'tensorflow==2.6.0',\r\n",
        "                                                'joblib==1.0.1',\r\n",
        "                                                'Unidecode==1.3.2',\r\n",
        "                                                'nltk==3.6.5'],\r\n",
        "                                conda_packages=['pip==21.3'])\r\n",
        "    env.python.conda_dependencies = cd\r\n",
        "    env.register(workspace=ws)\r\n",
        "\r\n",
        "# reg_env()"
      ],
      "outputs": [],
      "execution_count": 2,
      "metadata": {
        "jupyter": {
          "source_hidden": false,
          "outputs_hidden": false
        },
        "nteract": {
          "transient": {
            "deleting": false
          }
        },
        "gather": {
          "logged": 1635518253532
        }
      }
    },
    {
      "cell_type": "code",
      "source": [
        "# model register\r\n",
        "\r\n",
        "def reg_model():\r\n",
        "    model = Model.register(model_path=\"deploy/glove_lstm_nn.h5\",\r\n",
        "                        model_name=\"twitter-sentiment-glove-lstm\",\r\n",
        "                        description=\"Predict twits sentiments with Glove LSTM RNN\",\r\n",
        "                        workspace=ws)\r\n",
        "\r\n",
        "# reg_model()\r\n"
      ],
      "outputs": [],
      "execution_count": 3,
      "metadata": {
        "jupyter": {
          "source_hidden": false,
          "outputs_hidden": false
        },
        "nteract": {
          "transient": {
            "deleting": false
          }
        },
        "gather": {
          "logged": 1635518253627
        }
      }
    },
    {
      "cell_type": "code",
      "source": [
        "# model deploy\r\n",
        "\r\n",
        "model = Model(ws, 'twitter-sentiment-glove-lstm')\r\n",
        "\r\n",
        "myenv = Environment.get(workspace=ws, name=\"dl-env\", version=\"11\") # CARE UPDATING VERSION ON NEW DEPLOY\r\n",
        "\r\n",
        "inference_config = InferenceConfig(source_directory=\"deploy\", entry_script=\"score.py\", environment=myenv)\r\n",
        "\r\n",
        "aciconfig = AciWebservice.deploy_configuration(cpu_cores=1, \r\n",
        "                                               memory_gb=1, \r\n",
        "                                               tags={\"data\": \"twitter-sentiment\",  \"method\": \"glove-lstm\"}, \r\n",
        "                                               description='Predict twits sentiments with Glove LSTM RNN')\r\n",
        "\r\n",
        "service = Model.deploy(workspace=ws, \r\n",
        "                       name='glove-lstm-service', \r\n",
        "                       models=[model], \r\n",
        "                       inference_config=inference_config, \r\n",
        "                       deployment_config=aciconfig)\r\n",
        "\r\n",
        "service.wait_for_deployment(show_output=True)"
      ],
      "outputs": [
        {
          "output_type": "stream",
          "name": "stdout",
          "text": "Tips: You can try get_logs(): https://aka.ms/debugimage#dockerlog or local deployment: https://aka.ms/debugimage#debug-locally to debug if deployment takes longer than 10 minutes.\nRunning\n2021-10-29 14:38:17+00:00 Creating Container Registry if not exists.\n2021-10-29 14:38:17+00:00 Registering the environment.\n2021-10-29 14:38:17+00:00 Use the existing image.\n2021-10-29 14:38:18+00:00 Generating deployment configuration.\n2021-10-29 14:38:19+00:00 Submitting deployment to compute..\n2021-10-29 14:39:02+00:00 Checking the status of deployment glove-lstm-service..\n2021-10-29 14:41:21+00:00 Checking the status of inference endpoint glove-lstm-service.\nSucceeded\nACI service creation operation finished, operation \"Succeeded\"\n"
        }
      ],
      "execution_count": 4,
      "metadata": {
        "jupyter": {
          "source_hidden": false,
          "outputs_hidden": false
        },
        "nteract": {
          "transient": {
            "deleting": false
          }
        },
        "gather": {
          "logged": 1635518484556
        }
      }
    },
    {
      "cell_type": "code",
      "source": [
        "print(service.scoring_uri)"
      ],
      "outputs": [
        {
          "output_type": "stream",
          "name": "stdout",
          "text": "http://818544a3-f7cf-4321-a04e-d05e995e6dd0.francecentral.azurecontainer.io/score\n"
        }
      ],
      "execution_count": 5,
      "metadata": {
        "jupyter": {
          "source_hidden": false,
          "outputs_hidden": false
        },
        "nteract": {
          "transient": {
            "deleting": false
          }
        },
        "gather": {
          "logged": 1635518484648
        }
      }
    },
    {
      "cell_type": "code",
      "source": [
        "# service.delete()"
      ],
      "outputs": [],
      "execution_count": 6,
      "metadata": {
        "jupyter": {
          "source_hidden": false,
          "outputs_hidden": false
        },
        "nteract": {
          "transient": {
            "deleting": false
          }
        },
        "gather": {
          "logged": 1635518484809
        }
      }
    }
  ],
  "metadata": {
    "kernelspec": {
      "name": "python3-azureml",
      "language": "python",
      "display_name": "Python 3.6 - AzureML"
    },
    "language_info": {
      "name": "python",
      "version": "3.6.9",
      "mimetype": "text/x-python",
      "codemirror_mode": {
        "name": "ipython",
        "version": 3
      },
      "pygments_lexer": "ipython3",
      "nbconvert_exporter": "python",
      "file_extension": ".py"
    },
    "kernel_info": {
      "name": "python3-azureml"
    },
    "microsoft": {
      "host": {
        "AzureML": {
          "notebookHasBeenCompleted": true
        }
      }
    },
    "nteract": {
      "version": "nteract-front-end@1.0.0"
    }
  },
  "nbformat": 4,
  "nbformat_minor": 2
}