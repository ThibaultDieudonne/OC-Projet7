{
 "cells": [
  {
   "cell_type": "markdown",
   "id": "527d7230",
   "metadata": {},
   "source": [
    "# Détectez les bad buzz grace au Deeplearning"
   ]
  },
  {
   "cell_type": "code",
   "execution_count": 1,
   "id": "9d71684a",
   "metadata": {},
   "outputs": [],
   "source": [
    "import warnings\n",
    "warnings.simplefilter(action='ignore')\n",
    "\n",
    "### basic libs\n",
    "import os\n",
    "import numpy as np\n",
    "import pandas as pd\n",
    "import seaborn as sns\n",
    "import matplotlib.pyplot as plt\n",
    "# import tensorflow as tf\n",
    "from sklearn.manifold import TSNE\n",
    "import nltk\n",
    "from nltk.stem.snowball import EnglishStemmer\n",
    "from sklearn.decomposition import LatentDirichletAllocation\n",
    "from sklearn.feature_extraction.text import CountVectorizer\n",
    "import gensim\n",
    "import pyLDAvis\n",
    "import pyLDAvis.gensim_models as gensimvis\n",
    "\n",
    "pyLDAvis.enable_notebook()\n",
    "\n",
    "# pd.set_option('display.max_rows', None)\n",
    "# pd.set_option('display.max_columns', None)\n",
    "# pd.set_option('display.width', None)\n",
    "# pd.set_option('display.max_colwidth', -1)\n",
    "\n",
    "done_preprocessing = 1"
   ]
  },
  {
   "cell_type": "code",
   "execution_count": 2,
   "id": "c42b4889",
   "metadata": {},
   "outputs": [],
   "source": [
    "if not done_preprocessing:\n",
    "    tweets_df = pd.read_csv('./dataset.csv', names=['target', 'id', 'date', 'flag', 'user', 'text'], encoding='latin-1')\n",
    "    tweets_df = tweets_df[['target', 'text']]\n",
    "    print(tweets_df.head())\n"
   ]
  },
  {
   "cell_type": "code",
   "execution_count": 3,
   "id": "947c3b09",
   "metadata": {},
   "outputs": [],
   "source": [
    "if not done_preprocessing:\n",
    "    lbls = ['Negative', '', '', '', 'Positive']\n",
    "    sns.histplot(x=tweets_df[\"target\"].apply(lambda x: lbls[x]))\n",
    "    plt.show()"
   ]
  },
  {
   "cell_type": "markdown",
   "id": "928138de",
   "metadata": {},
   "source": [
    "### Text preproccessing"
   ]
  },
  {
   "cell_type": "code",
   "execution_count": 5,
   "id": "d0530a49",
   "metadata": {},
   "outputs": [],
   "source": [
    "test_size = 100000\n",
    "val_size = 100000\n",
    "\n",
    "if not done_preprocessing:\n",
    "    stemmer = EnglishStemmer()\n",
    "    tokenizer = nltk.RegexpTokenizer(r'\\w+')\n",
    "    stop_words = [stemmer.stem(w) for w in list(nltk.corpus.stopwords.words('english'))]\n",
    "\n",
    "    def clean_up(text):\n",
    "        text = text.split()\n",
    "        for exclude in ['@', '/']:\n",
    "            text = [w for w in text if not exclude in w]\n",
    "        text = ' '.join(text)\n",
    "        tokens = tokenizer.tokenize(text)\n",
    "        tokens = [stemmer.stem(w) for w in tokens]\n",
    "        tokens = [w for w in tokens if not w in stop_words]\n",
    "        return \" \".join(tokens)\n",
    "\n",
    "    def tokenize_comments():\n",
    "        tweets_df[\"text\"] = tweets_df[\"text\"].apply(clean_up)\n",
    "\n",
    "    def get_most_used():\n",
    "        freqs = {}\n",
    "        tokenized_text = tweets_df[\"text\"].to_list()\n",
    "        for comment in tokenized_text:\n",
    "            if isinstance(comment, str):\n",
    "                comment = comment.split()\n",
    "                for word in list(set(comment)):\n",
    "                    if word in freqs:\n",
    "                        freqs[word] += 1\n",
    "                    else:\n",
    "                        freqs[word] = 1\n",
    "\n",
    "        freqs_list = [(x, freqs[x]/tweets_df.shape[0])for x in freqs]\n",
    "        freqs_list = sorted(freqs_list, key=lambda x:x[1])[::-1]\n",
    "\n",
    "        out = [x[0]for x in freqs_list[:100]]\n",
    "\n",
    "        return out \n",
    "\n",
    "    def clear_words(tokens):\n",
    "        if isinstance(tokens, str):\n",
    "            return \" \".join([w for w in tokens.split() if not w in n_frequent])\n",
    "        else:\n",
    "            return \"\"\n",
    "\n",
    "    def del_most_freq():\n",
    "        global tweets_df\n",
    "        tweets_df = tweets_df.dropna()\n",
    "        tweets_df[\"text\"] = tweets_df[\"text\"].apply(clear_words)          \n",
    "\n",
    "    tokenize_comments()    \n",
    "\n",
    "    n_frequent = get_most_used()\n",
    "\n",
    "    del_most_freq()\n",
    "    \n",
    "    test_df = tweets_df.head(test_size)\n",
    "    tweets_df = tweets_df.tail(tweets_df.shape[0] - test_size)\n",
    "    val_df = tweets_df.head(val_size)\n",
    "    tweets_df = tweets_df.tail(tweets_df.shape[0] - val_size)\n",
    "    test_df.to_csv('text_test.csv', index=False)\n",
    "    val_df.to_csv('text_val.csv', index=False)\n",
    "    tweets_df.to_csv('text_train.csv', index=False)"
   ]
  },
  {
   "cell_type": "code",
   "execution_count": 6,
   "id": "bb0eb36f",
   "metadata": {},
   "outputs": [
    {
     "data": {
      "text/html": [
       "<div>\n",
       "<style scoped>\n",
       "    .dataframe tbody tr th:only-of-type {\n",
       "        vertical-align: middle;\n",
       "    }\n",
       "\n",
       "    .dataframe tbody tr th {\n",
       "        vertical-align: top;\n",
       "    }\n",
       "\n",
       "    .dataframe thead th {\n",
       "        text-align: right;\n",
       "    }\n",
       "</style>\n",
       "<table border=\"1\" class=\"dataframe\">\n",
       "  <thead>\n",
       "    <tr style=\"text-align: right;\">\n",
       "      <th></th>\n",
       "      <th>target</th>\n",
       "      <th>text</th>\n",
       "    </tr>\n",
       "  </thead>\n",
       "  <tbody>\n",
       "    <tr>\n",
       "      <th>976607</th>\n",
       "      <td>0</td>\n",
       "      <td>ear hurt throat hurt bitch woe eat someth</td>\n",
       "    </tr>\n",
       "    <tr>\n",
       "      <th>1192017</th>\n",
       "      <td>4</td>\n",
       "      <td>moment univers usual air canada seat sale quit...</td>\n",
       "    </tr>\n",
       "    <tr>\n",
       "      <th>490485</th>\n",
       "      <td>4</td>\n",
       "      <td>incred video</td>\n",
       "    </tr>\n",
       "    <tr>\n",
       "      <th>822186</th>\n",
       "      <td>4</td>\n",
       "      <td>ok ur anywher near sit class swim parti lonngg...</td>\n",
       "    </tr>\n",
       "    <tr>\n",
       "      <th>1372297</th>\n",
       "      <td>0</td>\n",
       "      <td>confick opossum didnt</td>\n",
       "    </tr>\n",
       "  </tbody>\n",
       "</table>\n",
       "</div>"
      ],
      "text/plain": [
       "         target                                               text\n",
       "976607        0          ear hurt throat hurt bitch woe eat someth\n",
       "1192017       4  moment univers usual air canada seat sale quit...\n",
       "490485        4                                       incred video\n",
       "822186        4  ok ur anywher near sit class swim parti lonngg...\n",
       "1372297       0                              confick opossum didnt"
      ]
     },
     "execution_count": 6,
     "metadata": {},
     "output_type": "execute_result"
    }
   ],
   "source": [
    "if done_preprocessing:\n",
    "    train_df = pd.read_csv('text_train.csv')\n",
    "    train_df = train_df.sample(frac=1)\n",
    "    test_df = pd.read_csv('text_test.csv')\n",
    "    val_df = pd.read_csv('text_val.csv')\n",
    "    \n",
    "train_df.head()"
   ]
  },
  {
   "cell_type": "code",
   "execution_count": null,
   "id": "05f854bb",
   "metadata": {},
   "outputs": [],
   "source": []
  }
 ],
 "metadata": {
  "kernelspec": {
   "display_name": "Python 3 (ipykernel)",
   "language": "python",
   "name": "python3"
  },
  "language_info": {
   "codemirror_mode": {
    "name": "ipython",
    "version": 3
   },
   "file_extension": ".py",
   "mimetype": "text/x-python",
   "name": "python",
   "nbconvert_exporter": "python",
   "pygments_lexer": "ipython3",
   "version": "3.8.11"
  }
 },
 "nbformat": 4,
 "nbformat_minor": 5
}
