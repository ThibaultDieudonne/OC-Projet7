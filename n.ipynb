{
 "cells": [
  {
   "cell_type": "markdown",
   "id": "527d7230",
   "metadata": {},
   "source": [
    "# Détectez les bad buzz grace au Deeplearning"
   ]
  },
  {
   "cell_type": "code",
   "execution_count": 1,
   "id": "9d71684a",
   "metadata": {},
   "outputs": [],
   "source": [
    "import warnings\n",
    "warnings.simplefilter(action='ignore')\n",
    "# basic libs\n",
    "import os\n",
    "import numpy as np\n",
    "import pandas as pd\n",
    "import seaborn as sns\n",
    "import matplotlib.pyplot as plt\n",
    "import joblib\n",
    "import unidecode\n",
    "import gc\n",
    "# text preprocessing\n",
    "import nltk\n",
    "import gensim\n",
    "from nltk.stem.snowball import EnglishStemmer\n",
    "from nltk.stem import WordNetLemmatizer\n",
    "# simple random forest regression\n",
    "from sklearn.feature_extraction.text import CountVectorizer\n",
    "from sklearn.ensemble import RandomForestClassifier\n",
    "from sklearn.model_selection import GridSearchCV\n",
    "# deeplearning\n",
    "import tensorflow as tf\n",
    "\n",
    "# pd.set_option('display.max_rows', None)\n",
    "# pd.set_option('display.max_columns', None)\n",
    "# pd.set_option('display.width', None)\n",
    "# pd.set_option('display.max_colwidth', -1)\n"
   ]
  },
  {
   "cell_type": "markdown",
   "id": "928138de",
   "metadata": {},
   "source": [
    "### Text preproccessing"
   ]
  },
  {
   "cell_type": "markdown",
   "id": "4bd0465b",
   "metadata": {},
   "source": [
    "On commence par tokéniser le texte (on ne garde que les mots, en supprimant la pontuation, les liens, les nombres ...).\n",
    "On retire également les \"stop-words\", c'est-à-dire tous les articles, déterminants, pronoms et mots de liaison.\n",
    "On applique ensuite deux traitements différents séparément pour comparer leurs performances: la lemmatisation (qui garde seulement la forme canonique des mots, par exemple le féminin singulier) et le stemming (qui garde uniquement le radical des mots). "
   ]
  },
  {
   "cell_type": "code",
   "execution_count": 2,
   "id": "1de150fc",
   "metadata": {},
   "outputs": [],
   "source": [
    "done_preprocessing = 1\n",
    "\n",
    "n_words = 5000 # warning: must be higher later\n",
    "\n",
    "test_size = 100000\n",
    "val_size = 100000\n",
    "\n",
    "lbls = ['Negative', '', '', '', 'Positive']\n",
    "\n",
    "if not done_preprocessing:\n",
    "    train_df = pd.read_csv('./data/dataset.csv', names=['target', 'id', 'date', 'flag', 'user', 'text'], encoding='latin-1')\n",
    "    train_df = train_df[['target', 'text']]\n",
    "    \n",
    "    tokenizer = nltk.RegexpTokenizer(r'\\w+')\n",
    "    stop_words = list(nltk.corpus.stopwords.words('english'))\n",
    "    \n",
    "    def clean_up(text):\n",
    "        text = unidecode.unidecode(''.join(c for c in text if not c.isdigit()).replace('\\n', '').lower())\n",
    "        text = text.split()\n",
    "        for exclude in ['@', '/']:\n",
    "            text = [w for w in text if not exclude in w]\n",
    "        text = ' '.join(text)\n",
    "        tokens = tokenizer.tokenize(text)\n",
    "        tokens = [w for w in tokens if not w in stop_words and len(w) > 1]\n",
    "        return \" \".join(tokens)\n",
    "    \n",
    "    def update_target(tgt):\n",
    "        return 1 if tgt else 0\n",
    "    \n",
    "    train_df[\"target\"] = train_df[\"target\"].apply(update_target)\n",
    "    \n",
    "    train_df[\"text\"] = train_df[\"text\"].apply(clean_up)\n",
    "    \n",
    "    train_df = train_df[train_df['text'] != \"\"]\n",
    "    \n",
    "    train_df = train_df.sample(frac=1)\n",
    "    \n",
    "    train_df.to_csv('./data/preprocessed.csv', index=False)"
   ]
  },
  {
   "cell_type": "code",
   "execution_count": 3,
   "id": "d0530a49",
   "metadata": {},
   "outputs": [
    {
     "name": "stdout",
     "output_type": "stream",
     "text": [
      "Found 270425 unique tokens in vanilla text\n",
      "Found 223960 unique tokens after stemming\n",
      "Found 258567 unique tokens after lemmatisation\n",
      "Final dataframe size: 1577584\n"
     ]
    }
   ],
   "source": [
    "if not done_preprocessing:\n",
    "    \n",
    "    train_df = pd.read_csv('./data/preprocessed.csv')\n",
    "    \n",
    "    stemmer = EnglishStemmer()\n",
    "    lemmatizer = WordNetLemmatizer()\n",
    "\n",
    "    def stem(text):\n",
    "        return [w for w in [stemmer.stem(w2) for w2 in text]if len(w) > 1]\n",
    "\n",
    "    def lem(text):\n",
    "        return [w for w in [lemmatizer.lemmatize(w2) for w2 in text]if len(w) > 1]\n",
    "    \n",
    "    # vanilla\n",
    "    train_df[\"text\"] = train_df[\"text\"].apply(lambda x: x.split())\n",
    "    v_dictionary = gensim.corpora.Dictionary(train_df[\"text\"].tolist())\n",
    "    print(f\"Found {len(v_dictionary)} unique tokens in vanilla text\")\n",
    "    v_dictionary.filter_extremes(no_below=20, no_above=0.4, keep_n=n_words)\n",
    "    v_words = v_dictionary.token2id\n",
    "    with open(\"./data/vanilla_vocab.txt\", \"w\") as f:\n",
    "        for w in v_words:\n",
    "            f.write(w)\n",
    "            f.write('\\n')\n",
    "            \n",
    "    # stemming\n",
    "    train_df[\"text_stem\"] = train_df[\"text\"].apply(stem)\n",
    "    s_dictionary = gensim.corpora.Dictionary(train_df[\"text_stem\"].tolist())\n",
    "    print(f\"Found {len(s_dictionary)} unique tokens after stemming\")\n",
    "    s_dictionary.filter_extremes(no_below=20, no_above=0.4, keep_n=n_words)\n",
    "    s_words = s_dictionary.token2id\n",
    "    with open(\"./data/stemming_vocab.txt\", \"w\") as f:\n",
    "        for w in s_words:\n",
    "            f.write(w)\n",
    "            f.write('\\n')\n",
    "    \n",
    "    # lemmatization\n",
    "    train_df[\"text_lem\"] = train_df[\"text\"].apply(lem)\n",
    "    l_dictionary = gensim.corpora.Dictionary(train_df[\"text_lem\"].tolist())\n",
    "    print(f\"Found {len(l_dictionary)} unique tokens after lemmatisation\")\n",
    "    l_dictionary.filter_extremes(no_below=20, no_above=0.4, keep_n=n_words)\n",
    "    l_words = l_dictionary.token2id\n",
    "    with open(\"./data/lemmatization_vocab.txt\", \"w\") as f:\n",
    "        for w in l_words:\n",
    "            f.write(w)\n",
    "            f.write('\\n')\n",
    "    \n",
    "    def clean_vanilla(tokens):\n",
    "        return \" \".join([t for t in tokens if t in v_words])\n",
    "    \n",
    "    def clean_stem(tokens):\n",
    "        return \" \".join([t for t in tokens if t in s_words])\n",
    "        \n",
    "    def clean_lem(tokens):\n",
    "        return \" \".join([t for t in tokens if t in l_words])\n",
    "\n",
    "    # clean new df\n",
    "    train_df[\"text\"] = train_df[\"text\"].apply(clean_vanilla)\n",
    "    train_df[\"text_stem\"] = train_df[\"text_stem\"].apply(clean_stem)\n",
    "    train_df[\"text_lem\"] = train_df[\"text_lem\"].apply(clean_lem)\n",
    "\n",
    "    train_df = train_df[train_df['text'] != \"\"]\n",
    "    train_df = train_df[train_df['text_stem'] != \"\"]\n",
    "    train_df = train_df[train_df['text_lem'] != \"\"]\n",
    "    \n",
    "    train_df = train_df.sample(frac=1)\n",
    "    \n",
    "    print(f\"Final dataframe size: {train_df.shape[0]}\")\n",
    "    \n",
    "    # make train test split\n",
    "    test_df = train_df.head(test_size)\n",
    "    train_df = train_df.tail(train_df.shape[0] - test_size)\n",
    "    val_df = train_df.head(val_size)\n",
    "    train_df = train_df.tail(train_df.shape[0] - val_size)\n",
    "    test_df.to_csv('./data/text_test.csv', index=False)\n",
    "    val_df.to_csv('./data/text_val.csv', index=False)\n",
    "    train_df.to_csv('./data/text_train.csv', index=False)\n",
    "else:\n",
    "    print(\"Found 270425 unique tokens in vanilla text\\nFound 223960 unique tokens after stemming\\nFound 258567 unique tokens after lemmatisation\\nFinal dataframe size: 1577584\")"
   ]
  },
  {
   "cell_type": "code",
   "execution_count": 4,
   "id": "bb0eb36f",
   "metadata": {},
   "outputs": [
    {
     "data": {
      "text/html": [
       "<div>\n",
       "<style scoped>\n",
       "    .dataframe tbody tr th:only-of-type {\n",
       "        vertical-align: middle;\n",
       "    }\n",
       "\n",
       "    .dataframe tbody tr th {\n",
       "        vertical-align: top;\n",
       "    }\n",
       "\n",
       "    .dataframe thead th {\n",
       "        text-align: right;\n",
       "    }\n",
       "</style>\n",
       "<table border=\"1\" class=\"dataframe\">\n",
       "  <thead>\n",
       "    <tr style=\"text-align: right;\">\n",
       "      <th></th>\n",
       "      <th>target</th>\n",
       "      <th>text</th>\n",
       "      <th>text_stem</th>\n",
       "      <th>text_lem</th>\n",
       "    </tr>\n",
       "  </thead>\n",
       "  <tbody>\n",
       "    <tr>\n",
       "      <th>0</th>\n",
       "      <td>0</td>\n",
       "      <td>keep taking mail burning mean</td>\n",
       "      <td>forest keep take mail burn mean</td>\n",
       "      <td>forest keep taking mail burning mean</td>\n",
       "    </tr>\n",
       "    <tr>\n",
       "      <th>1</th>\n",
       "      <td>1</td>\n",
       "      <td>com exist ok wallet hurting</td>\n",
       "      <td>com exist ok wallet hurt</td>\n",
       "      <td>com exist ok wallet hurting</td>\n",
       "    </tr>\n",
       "    <tr>\n",
       "      <th>2</th>\n",
       "      <td>0</td>\n",
       "      <td>feeling rough would say never drink would lie ...</td>\n",
       "      <td>feel rough would say never drink would lie may...</td>\n",
       "      <td>feeling rough would say never drink would lie ...</td>\n",
       "    </tr>\n",
       "    <tr>\n",
       "      <th>3</th>\n",
       "      <td>0</td>\n",
       "      <td>bugs window screen</td>\n",
       "      <td>bug window screen</td>\n",
       "      <td>bug window screen</td>\n",
       "    </tr>\n",
       "    <tr>\n",
       "      <th>4</th>\n",
       "      <td>0</td>\n",
       "      <td>really want sing really loud right</td>\n",
       "      <td>realli want sing realli loud right</td>\n",
       "      <td>really want sing really loud right</td>\n",
       "    </tr>\n",
       "  </tbody>\n",
       "</table>\n",
       "</div>"
      ],
      "text/plain": [
       "   target                                               text  \\\n",
       "0       0                      keep taking mail burning mean   \n",
       "1       1                        com exist ok wallet hurting   \n",
       "2       0  feeling rough would say never drink would lie ...   \n",
       "3       0                                 bugs window screen   \n",
       "4       0                 really want sing really loud right   \n",
       "\n",
       "                                           text_stem  \\\n",
       "0                    forest keep take mail burn mean   \n",
       "1                           com exist ok wallet hurt   \n",
       "2  feel rough would say never drink would lie may...   \n",
       "3                                  bug window screen   \n",
       "4                 realli want sing realli loud right   \n",
       "\n",
       "                                            text_lem  \n",
       "0               forest keep taking mail burning mean  \n",
       "1                        com exist ok wallet hurting  \n",
       "2  feeling rough would say never drink would lie ...  \n",
       "3                                  bug window screen  \n",
       "4                 really want sing really loud right  "
      ]
     },
     "execution_count": 4,
     "metadata": {},
     "output_type": "execute_result"
    }
   ],
   "source": [
    "if done_preprocessing:\n",
    "    train_df = pd.read_csv('./data/text_train.csv')\n",
    "    test_df = pd.read_csv('./data/text_test.csv')\n",
    "    val_df = pd.read_csv('./data/text_val.csv')\n",
    "    \n",
    "train_df.head()"
   ]
  },
  {
   "cell_type": "code",
   "execution_count": 5,
   "id": "417eec36",
   "metadata": {},
   "outputs": [],
   "source": [
    "results_file = f'./results.csv'\n",
    "\n",
    "if not os.path.isfile(results_file):\n",
    "    results = pd.DataFrame(columns=['model_name', 'accuracy', 'loss'])\n",
    "    results.to_csv(results_file, index=False)\n",
    "\n",
    "def add_result(name, accuracy, loss=None):\n",
    "    result_df = pd.read_csv(results_file)\n",
    "    result_df = result_df[result_df[\"model_name\"] != name]\n",
    "    result_df = result_df.append({\"model_name\": name, \"accuracy\": accuracy, \"loss\": loss}, ignore_index=True)\n",
    "    result_df.to_csv(results_file, index=False)\n",
    "    \n",
    "def get_results():\n",
    "    result_df = pd.read_csv(results_file)\n",
    "    print(result_df.head(20))"
   ]
  },
  {
   "cell_type": "markdown",
   "id": "c4818c5c",
   "metadata": {},
   "source": [
    "### Baseline\n",
    "\n",
    "Le modèle de base servant de références aux autres modèles est une simple régression (random forest) appliquée sur les bag-of-words."
   ]
  },
  {
   "cell_type": "code",
   "execution_count": 6,
   "id": "f84ec123",
   "metadata": {},
   "outputs": [],
   "source": [
    "trained = 1\n",
    "\n",
    "debug = 1\n",
    "\n",
    "if debug:\n",
    "    train_df = train_df.head(500000) # 20000 => 5Go for random forest & simple models with 5K vocabulary\n",
    "    val_df = val_df.head(5000)\n",
    "    test_df = test_df.head(5000)"
   ]
  },
  {
   "cell_type": "code",
   "execution_count": 7,
   "id": "f0d74548",
   "metadata": {},
   "outputs": [],
   "source": [
    "if not trained:\n",
    "    vanilla_vectoriser = CountVectorizer(max_features=n_words)\n",
    "    train_vectorized = vanilla_vectoriser.fit_transform(train_df[\"text\"].to_list()).toarray()\n",
    "    test_vectorized = vanilla_vectoriser.transform(test_df[\"text\"].to_list()).toarray()\n",
    "\n",
    "    stem_vectoriser = CountVectorizer(max_features=n_words)\n",
    "    train_vectorized_stem = stem_vectoriser.fit_transform(train_df[\"text_stem\"].to_list()).toarray()\n",
    "    test_vectorized_stem = stem_vectoriser.transform(test_df[\"text_stem\"].to_list()).toarray()\n",
    "\n",
    "    lem_vectoriser = CountVectorizer(max_features=n_words)\n",
    "    train_vectorized_lem = lem_vectoriser.fit_transform(train_df[\"text_lem\"].to_list()).toarray()\n",
    "    test_vectorized_lem = lem_vectoriser.transform(test_df[\"text_lem\"].to_list()).toarray()\n",
    "\n",
    "    target = train_df[\"target\"].to_list()\n",
    "    test_target = test_df[\"target\"].to_list()"
   ]
  },
  {
   "cell_type": "markdown",
   "id": "2356ff15",
   "metadata": {},
   "source": [
    "#### Vanilla"
   ]
  },
  {
   "cell_type": "code",
   "execution_count": 8,
   "id": "4371e56a",
   "metadata": {},
   "outputs": [],
   "source": [
    "if not debug and not trained:\n",
    "    rfc=RandomForestClassifier(random_state=42)\n",
    "    param_grid = { \n",
    "        'n_estimators': [100, 1000],\n",
    "        'max_features': ['sqrt', 'log2']\n",
    "    }\n",
    "    forest_grid = GridSearchCV(estimator=rfc, param_grid=param_grid, cv=10, scoring=\"accuracy\", n_jobs=-1)\n",
    "    forest_grid.fit(train_vectorized, target)\n",
    "    print(forest_grid.best_params_)\n",
    "    print(\"accuracy :\", forest_grid.best_score_)\n",
    "    forest_params = forest_grid.best_params_\n",
    "else:\n",
    "    forest_params = {'max_features': 'sqrt', 'n_estimators': 1000}"
   ]
  },
  {
   "cell_type": "code",
   "execution_count": 9,
   "id": "e12e4a61",
   "metadata": {},
   "outputs": [],
   "source": [
    "if not trained:\n",
    "    random_forest = RandomForestClassifier(\n",
    "                    n_estimators=forest_params['n_estimators'],\n",
    "                    random_state=50,\n",
    "                    max_features=forest_params['max_features'],\n",
    "                    verbose=False,\n",
    "                    n_jobs=-1)\n",
    "    random_forest.fit(train_vectorized, target)\n",
    "    joblib.dump(random_forest, \"./models/random_forest.joblib\")\n",
    "    \n",
    "    perf = random_forest.score(test_vectorized, test_target)\n",
    "    add_result(\"random_forest\", perf)\n",
    "    \n",
    "    del random_forest\n",
    "    gc.collect()"
   ]
  },
  {
   "cell_type": "markdown",
   "id": "ed0fdd68",
   "metadata": {},
   "source": [
    "#### Avec stemming"
   ]
  },
  {
   "cell_type": "code",
   "execution_count": 10,
   "id": "2db2f030",
   "metadata": {},
   "outputs": [],
   "source": [
    "if not debug and not trained:\n",
    "    rfc=RandomForestClassifier(random_state=42)\n",
    "    param_grid = { \n",
    "        'n_estimators': [100, 1000],\n",
    "        'max_features': ['sqrt', 'log2']\n",
    "    }\n",
    "    forest_grid = GridSearchCV(estimator=rfc, param_grid=param_grid, cv=10, scoring=\"accuracy\", n_jobs=-1)\n",
    "    forest_grid.fit(train_vectorized_stem, target)\n",
    "    print(forest_grid.best_params_)\n",
    "    print(\"accuracy :\", forest_grid.best_score_)\n",
    "    forest_params = forest_grid.best_params_\n",
    "else:\n",
    "    forest_params = {'max_features': 'sqrt', 'n_estimators': 1000}"
   ]
  },
  {
   "cell_type": "code",
   "execution_count": 11,
   "id": "56945d99",
   "metadata": {},
   "outputs": [],
   "source": [
    "if not trained:\n",
    "    random_forest_stem = RandomForestClassifier(\n",
    "                    n_estimators=forest_params['n_estimators'],\n",
    "                    random_state=50,\n",
    "                    max_features=forest_params['max_features'],\n",
    "                    verbose=False,\n",
    "                    n_jobs=-1)\n",
    "    random_forest_stem.fit(train_vectorized_stem, target)\n",
    "    joblib.dump(random_forest_stem, \"./models/random_forest_stem.joblib\")\n",
    "    \n",
    "    perf = random_forest_stem.score(test_vectorized_stem, test_target)\n",
    "    add_result(\"random_forest_stem\", perf)\n",
    "\n",
    "    del random_forest_stem\n",
    "    gc.collect()"
   ]
  },
  {
   "cell_type": "markdown",
   "id": "c99ed51d",
   "metadata": {},
   "source": [
    "#### Avec lemmatization"
   ]
  },
  {
   "cell_type": "code",
   "execution_count": 12,
   "id": "112b1b2b",
   "metadata": {},
   "outputs": [],
   "source": [
    "if not debug and not trained:\n",
    "    rfc=RandomForestClassifier(random_state=42)\n",
    "    param_grid = { \n",
    "        'n_estimators': [100, 1000],\n",
    "        'max_features': ['sqrt', 'log2']\n",
    "    }\n",
    "    forest_grid = GridSearchCV(estimator=rfc, param_grid=param_grid, cv=10, scoring=\"accuracy\", n_jobs=-1)\n",
    "    forest_grid.fit(train_vectorized_lem, target)\n",
    "    print(forest_grid.best_params_)\n",
    "    print(\"accuracy :\", forest_grid.best_score_)\n",
    "    forest_params = forest_grid.best_params_\n",
    "else:\n",
    "    forest_params = {'max_features': 'sqrt', 'n_estimators': 1000}"
   ]
  },
  {
   "cell_type": "code",
   "execution_count": 13,
   "id": "74d93c85",
   "metadata": {},
   "outputs": [],
   "source": [
    "if not trained:\n",
    "    random_forest_lem = RandomForestClassifier(\n",
    "                    n_estimators=forest_params['n_estimators'],\n",
    "                    random_state=50,\n",
    "                    max_features=forest_params['max_features'],\n",
    "                    verbose=False,\n",
    "                    n_jobs=-1)\n",
    "    random_forest_lem.fit(train_vectorized_lem, target)\n",
    "    \n",
    "    perf = random_forest_lem.score(test_vectorized_lem, test_target)\n",
    "    add_result(\"random_forest_lem\", perf)\n",
    "    \n",
    "    joblib.dump(random_forest_lem, \"./models/random_forest_lem.joblib\")\n",
    "    \n",
    "    del random_forest_lem\n",
    "    gc.collect()\n",
    "    "
   ]
  },
  {
   "cell_type": "markdown",
   "id": "2b193bc1",
   "metadata": {},
   "source": [
    "### Deeplearning"
   ]
  },
  {
   "cell_type": "code",
   "execution_count": 14,
   "id": "cd29ef94",
   "metadata": {},
   "outputs": [],
   "source": [
    "batch_size = 10\n",
    "\n",
    "BUFFER_SIZE = 1000\n",
    "\n",
    "AUTOTUNE = tf.data.AUTOTUNE\n",
    "\n",
    "steps_per_epoch = train_df.shape[0] // (batch_size * 1)\n",
    "\n",
    "def process_model(model, hist, name, test_dataset):\n",
    "    # get results\n",
    "    history = pd.DataFrame(data=hist.history)\n",
    "    model_performance = model.evaluate(test_dataset)\n",
    "    model_pred = model.predict(test_dataset)\n",
    "    test_df[f\"{name}_label\"] = model_pred\n",
    "    # save results\n",
    "    add_result(name, model_performance[1], model_performance[0])\n",
    "    history.to_csv(f'./models/{name}_history.csv', index=False)\n",
    "    model.save_weights(f'./models/{name}.h5')\n",
    "    test_df.to_csv('./labels_df.csv', index=False)\n",
    "\n",
    "def display_learning_curves(hst):\n",
    "    fig, ax = plt.subplots(1, 2, figsize=(20, 3))\n",
    "    ax = ax.ravel()\n",
    "\n",
    "    for i, met in enumerate(['accuracy', 'loss']):\n",
    "        ax[i].plot(hst[met])\n",
    "        ax[i].plot(hst['val_' + met])\n",
    "        ax[i].set_title('Model {}'.format(met))\n",
    "        ax[i].set_xlabel('epochs')\n",
    "        ax[i].set_ylabel(met)\n",
    "        ax[i].legend(['train', 'val'])\n",
    "    \n",
    "    plt.show()"
   ]
  },
  {
   "cell_type": "code",
   "execution_count": 15,
   "id": "e79f37eb",
   "metadata": {},
   "outputs": [],
   "source": [
    "def load_doc(filename):\n",
    "    file = open(filename, 'r')\n",
    "    text = file.read()\n",
    "    file.close()\n",
    "    return text\n",
    "\n",
    "vocab_vanilla = load_doc(\"./data/vanilla_vocab.txt\")\n",
    "vocab_vanilla = vocab_vanilla.split()\n",
    "vocab_vanilla = set(vocab_vanilla)\n",
    "vocab_stem = load_doc(\"./data/stemming_vocab.txt\")\n",
    "vocab_stem = vocab_stem.split()\n",
    "vocab_stem = set(vocab_stem)\n",
    "vocab_lem = load_doc(\"./data/lemmatization_vocab.txt\")\n",
    "vocab_lem = vocab_lem.split()\n",
    "vocab_lem = set(vocab_lem)\n"
   ]
  },
  {
   "cell_type": "code",
   "execution_count": 16,
   "id": "af9f0ec2",
   "metadata": {},
   "outputs": [],
   "source": [
    "# get targets\n",
    "y_train = np.asarray(train_df[\"target\"].to_list())\n",
    "y_test = np.asarray(test_df[\"target\"].to_list())\n",
    "y_val = np.asarray(val_df[\"target\"].to_list())"
   ]
  },
  {
   "cell_type": "markdown",
   "id": "35c3ce31",
   "metadata": {},
   "source": [
    "#### Modèles simples"
   ]
  },
  {
   "cell_type": "code",
   "execution_count": 17,
   "id": "b3fd5f37",
   "metadata": {},
   "outputs": [],
   "source": [
    "def train_simple_nn(train_dataset, test_dataset, validation_dataset, name, has_trained=0):\n",
    "    # vectorize data\n",
    "    if has_trained:\n",
    "        vectoriser = joblib.load(f\"./models/{name}_vectoriser.joblib\")\n",
    "        train_vectorized = vectoriser.transform(train_dataset).toarray()\n",
    "        test_vectorized = vectoriser.transform(test_dataset).toarray()\n",
    "        val_vectorized = vectoriser.transform(validation_dataset).toarray()\n",
    "    else:\n",
    "        vectoriser = CountVectorizer(max_features=n_words)\n",
    "        train_vectorized = vectoriser.fit_transform(train_dataset).toarray()\n",
    "        test_vectorized = vectoriser.transform(test_dataset).toarray()\n",
    "        val_vectorized = vectoriser.transform(validation_dataset).toarray()\n",
    "        joblib.dump(vectoriser, f\"./models/{name}_vectoriser.joblib\")\n",
    "     # make tf datasets\n",
    "    train_ds = tf.data.Dataset.from_tensor_slices((np.asarray(train_vectorized), tf.cast(y_train, tf.int32))).shuffle(BUFFER_SIZE)\n",
    "    test_ds = tf.data.Dataset.from_tensor_slices((np.asarray(test_vectorized), tf.cast(y_test, tf.int32)))\n",
    "    val_ds = tf.data.Dataset.from_tensor_slices((np.asarray(val_vectorized), tf.cast(y_val, tf.int32))).shuffle(BUFFER_SIZE)\n",
    "    # preprocess datasets\n",
    "    train_ds = train_ds.repeat()\n",
    "    train_ds = train_ds.batch(batch_size)\n",
    "    train_ds = train_ds.prefetch(buffer_size=AUTOTUNE)\n",
    "    test_ds = test_ds.batch(batch_size)\n",
    "    val_ds = val_ds.batch(batch_size)\n",
    "    val_ds = val_ds.prefetch(buffer_size=AUTOTUNE)\n",
    "    # build model\n",
    "    model = tf.keras.models.Sequential()\n",
    "    model.add(tf.keras.layers.Dense(10, input_dim=np.shape(train_vectorized)[1], activation='relu'))\n",
    "    model.add(tf.keras.layers.Dense(1, activation='sigmoid'))\n",
    "    \n",
    "    if has_trained:\n",
    "        model.load_weights(f'./models/{name}.h5')\n",
    "        history = pd.read_csv(f'./models/{name}_history.csv')\n",
    "\n",
    "    print(model.summary())\n",
    "    \n",
    "    model.compile(loss='binary_crossentropy', \n",
    "                  optimizer=\"adam\", \n",
    "                  metrics=['accuracy'])\n",
    "    # train model\n",
    "    hist = model.fit(train_ds,\n",
    "                     epochs=5,\n",
    "                     verbose=2,\n",
    "                     validation_data=val_ds,\n",
    "                     batch_size=batch_size,\n",
    "                     steps_per_epoch=steps_per_epoch)\n",
    "    \n",
    "    process_model(model, hist, name, test_ds)\n",
    "    \n",
    "    # cleaning\n",
    "    del train_ds\n",
    "    del test_ds\n",
    "    del val_ds\n",
    "    gc.collect()\n",
    "    "
   ]
  },
  {
   "cell_type": "markdown",
   "id": "9add94f9",
   "metadata": {},
   "source": [
    "##### Vanilla"
   ]
  },
  {
   "cell_type": "code",
   "execution_count": 18,
   "id": "5507ced8",
   "metadata": {},
   "outputs": [],
   "source": [
    "model_name = \"vanilla_nn\"\n",
    "# train_simple_nn(train_df[\"text\"].to_list(), test_df[\"text\"].to_list(), val_df[\"text\"].to_list(), model_name)"
   ]
  },
  {
   "cell_type": "code",
   "execution_count": 19,
   "id": "0949c73f",
   "metadata": {},
   "outputs": [
    {
     "data": {
      "image/png": "[encoded data removed]",
      "text/plain": [
       "<Figure size 1440x216 with 2 Axes>"
      ]
     },
     "metadata": {
      "needs_background": "light"
     },
     "output_type": "display_data"
    }
   ],
   "source": [
    "history = pd.read_csv(f'./models/{model_name}_history.csv')\n",
    "display_learning_curves(history)"
   ]
  },
  {
   "cell_type": "markdown",
   "id": "598e2885",
   "metadata": {},
   "source": [
    "##### Stemming"
   ]
  },
  {
   "cell_type": "code",
   "execution_count": 20,
   "id": "fb8d0350",
   "metadata": {},
   "outputs": [],
   "source": [
    "model_name = \"stemming_nn\"\n",
    "# train_simple_nn(train_df[\"text_stem\"].to_list(), test_df[\"text_stem\"].to_list(), val_df[\"text_stem\"].to_list(), model_name)"
   ]
  },
  {
   "cell_type": "code",
   "execution_count": 21,
   "id": "4549f5de",
   "metadata": {},
   "outputs": [
    {
     "data": {
      "image/png": "[encoded data removed]",
      "text/plain": [
       "<Figure size 1440x216 with 2 Axes>"
      ]
     },
     "metadata": {
      "needs_background": "light"
     },
     "output_type": "display_data"
    }
   ],
   "source": [
    "history = pd.read_csv(f'./models/{model_name}_history.csv')\n",
    "display_learning_curves(history)"
   ]
  },
  {
   "cell_type": "markdown",
   "id": "bcba7261",
   "metadata": {},
   "source": [
    "##### Lemmatization"
   ]
  },
  {
   "cell_type": "code",
   "execution_count": 22,
   "id": "ae6778f6",
   "metadata": {},
   "outputs": [],
   "source": [
    "model_name = \"lemmatization_nn\"\n",
    "# train_simple_nn(train_df[\"text_lem\"].to_list(), test_df[\"text_lem\"].to_list(), val_df[\"text_lem\"].to_list(), model_name)"
   ]
  },
  {
   "cell_type": "code",
   "execution_count": 23,
   "id": "b2a39e9d",
   "metadata": {},
   "outputs": [
    {
     "data": {
      "image/png": "[encoded data removed]",
      "text/plain": [
       "<Figure size 1440x216 with 2 Axes>"
      ]
     },
     "metadata": {
      "needs_background": "light"
     },
     "output_type": "display_data"
    }
   ],
   "source": [
    "history = pd.read_csv(f'./models/{model_name}_history.csv')\n",
    "display_learning_curves(history)"
   ]
  },
  {
   "cell_type": "code",
   "execution_count": 24,
   "id": "bbb44b19",
   "metadata": {},
   "outputs": [
    {
     "data": {
      "text/plain": [
       "<AxesSubplot:xlabel='target', ylabel='Count'>"
      ]
     },
     "execution_count": 24,
     "metadata": {},
     "output_type": "execute_result"
    },
    {
     "data": {
      "image/png": "[encoded data removed]",
      "text/plain": [
       "<Figure size 432x288 with 1 Axes>"
      ]
     },
     "metadata": {
      "needs_background": "light"
     },
     "output_type": "display_data"
    }
   ],
   "source": [
    "sns.histplot(data=train_df[\"target\"])"
   ]
  },
  {
   "cell_type": "markdown",
   "id": "ed26dfc1",
   "metadata": {},
   "source": [
    "#### Utilisation de modèles de plongement de mots"
   ]
  },
  {
   "cell_type": "code",
   "execution_count": 25,
   "id": "d7aed0b3",
   "metadata": {},
   "outputs": [],
   "source": [
    "trained = 0\n",
    "\n",
    "if not trained:\n",
    "    # get train data\n",
    "    X_train = train_df[\"text\"].to_list()\n",
    "    # X_train_stem = train_df[\"text_stem\"].to_list()\n",
    "    # X_train_lem = train_df[\"text_lem\"].to_list()\n",
    "    \n",
    "    # get test data\n",
    "    X_test = test_df[\"text\"].to_list()\n",
    "    # X_test_stem = test_df[\"text_stem\"].to_list()\n",
    "    # X_test_lem = test_df[\"text_lem\"].to_list()\n",
    "    \n",
    "    # get validation data\n",
    "    X_val = val_df[\"text\"].to_list()\n",
    "    # X_val_stem = val_df[\"text_stem\"].to_list()\n",
    "    # X_val_lem = val_df[\"text_lem\"].to_list()\n",
    "    def encoder(data_train, data_test, data_val):\n",
    "        tokenizer = tf.keras.preprocessing.text.Tokenizer(num_words=n_words)\n",
    "        tokenizer.fit_on_texts(data_train)\n",
    "        encoded_train = tokenizer.texts_to_sequences(data_train)\n",
    "        encoded_test = tokenizer.texts_to_sequences(data_test)\n",
    "        encoded_val = tokenizer.texts_to_sequences(data_val)\n",
    "        max_len = max([len(s.split()) for s in data_train])\n",
    "        train_data = np.asarray(tf.keras.preprocessing.sequence.pad_sequences(encoded_train, maxlen=max_len, padding='post'))\n",
    "        test_data = np.asarray(tf.keras.preprocessing.sequence.pad_sequences(encoded_test, maxlen=max_len, padding='post'))\n",
    "        val_data = np.asarray(tf.keras.preprocessing.sequence.pad_sequences(encoded_val, maxlen=max_len, padding='post'))\n",
    "\n",
    "        return train_data, test_data, val_data, max_len, tokenizer\n",
    "\n",
    "    X_train, X_test, X_val, vanilla_input_dim, vanilla_tokenizer = encoder(X_train, X_test, X_val)\n",
    "    # X_train_stem, X_test_stem, X_val_stem, stem_input_dim, stem_tokenizer = encoder(X_train_stem, X_test_stem, X_val_stem)\n",
    "    # X_train_lem, X_test_lem, X_val_lem, lem_input_dim, lem_tokenizer = encoder(X_train_lem, X_test_lem, X_val_lem)\n",
    "\n",
    "    # make tf datasets\n",
    "    train_ds = tf.data.Dataset.from_tensor_slices((X_train, tf.cast(y_train, tf.int32))).shuffle(BUFFER_SIZE)\n",
    "    test_ds = tf.data.Dataset.from_tensor_slices((X_test, tf.cast(y_test, tf.int32)))\n",
    "    val_ds = tf.data.Dataset.from_tensor_slices((X_val, tf.cast(y_val, tf.int32))).shuffle(BUFFER_SIZE)\n",
    "    # preprocess datasets\n",
    "    train_ds = train_ds.repeat()\n",
    "    train_ds = train_ds.batch(batch_size)\n",
    "    train_ds = train_ds.prefetch(buffer_size=AUTOTUNE)\n",
    "    test_ds = test_ds.batch(batch_size)\n",
    "    val_ds = val_ds.batch(batch_size)\n",
    "    val_ds = val_ds.prefetch(buffer_size=AUTOTUNE)"
   ]
  },
  {
   "cell_type": "markdown",
   "id": "f219fd7b",
   "metadata": {},
   "source": [
    "##### Glove"
   ]
  },
  {
   "cell_type": "code",
   "execution_count": 26,
   "id": "e701a25e",
   "metadata": {},
   "outputs": [],
   "source": [
    "glove_dim = 200"
   ]
  },
  {
   "cell_type": "code",
   "execution_count": 27,
   "id": "245a1cd8",
   "metadata": {},
   "outputs": [],
   "source": [
    "def load_embedding(filename):\n",
    "    file = open(filename, encoding=\"utf8\")\n",
    "    lines = file.readlines()\n",
    "    file.close()\n",
    "    embedding = dict()\n",
    "    for line in lines:\n",
    "        parts = line.split()\n",
    "        embedding[parts[0]] = np.asarray(parts[1:], dtype='float32')\n",
    "    return embedding\n",
    " \n",
    "def get_weight_matrix(embedding, vocab):\n",
    "    vocab_size = len(vocab) + 1\n",
    "    weight_matrix = np.zeros((vocab_size, glove_dim))\n",
    "    for word, i in vocab.items():\n",
    "        vector = embedding.get(word)\n",
    "        if vector is not None:\n",
    "            weight_matrix[i] = vector\n",
    "    return weight_matrix\n",
    "\n",
    "vocab_size = len(vanilla_tokenizer.word_index) + 1\n",
    "raw_embedding = load_embedding(f'./models/glove.6B.{glove_dim}d.txt')\n",
    "embedding_vectors = get_weight_matrix(raw_embedding, vanilla_tokenizer.word_index)\n",
    "embedding_layer = tf.keras.layers.Embedding(vocab_size, glove_dim, weights=[embedding_vectors], input_length=vanilla_input_dim, trainable=False)"
   ]
  },
  {
   "cell_type": "code",
   "execution_count": 28,
   "id": "ef3d542a",
   "metadata": {},
   "outputs": [
    {
     "name": "stdout",
     "output_type": "stream",
     "text": [
      "Model: \"sequential\"\n",
      "_________________________________________________________________\n",
      "Layer (type)                 Output Shape              Param #   \n",
      "=================================================================\n",
      "embedding (Embedding)        (None, 26, 200)           999800    \n",
      "_________________________________________________________________\n",
      "conv1d (Conv1D)              (None, 22, 128)           128128    \n",
      "_________________________________________________________________\n",
      "max_pooling1d (MaxPooling1D) (None, 11, 128)           0         \n",
      "_________________________________________________________________\n",
      "flatten (Flatten)            (None, 1408)              0         \n",
      "_________________________________________________________________\n",
      "dense (Dense)                (None, 1)                 1409      \n",
      "=================================================================\n",
      "Total params: 1,129,337\n",
      "Trainable params: 129,537\n",
      "Non-trainable params: 999,800\n",
      "_________________________________________________________________\n",
      "None\n",
      "Epoch 1/10\n",
      "50000/50000 - 155s - loss: 0.5242 - accuracy: 0.7387 - val_loss: 0.5165 - val_accuracy: 0.7468\n",
      "Epoch 2/10\n",
      "50000/50000 - 145s - loss: 0.4967 - accuracy: 0.7587 - val_loss: 0.5219 - val_accuracy: 0.7480\n",
      "Epoch 3/10\n",
      "50000/50000 - 145s - loss: 0.4818 - accuracy: 0.7681 - val_loss: 0.5292 - val_accuracy: 0.7488\n",
      "Epoch 4/10\n",
      "50000/50000 - 146s - loss: 0.4689 - accuracy: 0.7764 - val_loss: 0.5429 - val_accuracy: 0.7422\n",
      "Epoch 5/10\n",
      "50000/50000 - 197s - loss: 0.4573 - accuracy: 0.7832 - val_loss: 0.5627 - val_accuracy: 0.7404\n",
      "Epoch 6/10\n",
      "50000/50000 - 182s - loss: 0.4471 - accuracy: 0.7894 - val_loss: 0.5679 - val_accuracy: 0.7390\n",
      "Epoch 7/10\n",
      "50000/50000 - 185s - loss: 0.4381 - accuracy: 0.7944 - val_loss: 0.5888 - val_accuracy: 0.7376\n",
      "Epoch 8/10\n",
      "50000/50000 - 174s - loss: 0.4300 - accuracy: 0.7986 - val_loss: 0.6063 - val_accuracy: 0.7344\n",
      "Epoch 9/10\n",
      "50000/50000 - 150s - loss: 0.4227 - accuracy: 0.8029 - val_loss: 0.6352 - val_accuracy: 0.7294\n",
      "Epoch 10/10\n",
      "50000/50000 - 148s - loss: 0.4156 - accuracy: 0.8067 - val_loss: 0.6564 - val_accuracy: 0.7336\n",
      "500/500 [==============================] - 1s 2ms/step - loss: 0.6062 - accuracy: 0.7502\n"
     ]
    }
   ],
   "source": [
    "model_name = \"glove_cnn\"\n",
    "\n",
    "def train_glove_model(has_trained=0):\n",
    "\n",
    "    glove_model = tf.keras.models.Sequential()\n",
    "    glove_model.add(embedding_layer)\n",
    "    glove_model.add(tf.keras.layers.Conv1D(filters=128, kernel_size=5, activation='relu'))\n",
    "    glove_model.add(tf.keras.layers.MaxPooling1D(pool_size=2))\n",
    "    glove_model.add(tf.keras.layers.Flatten())\n",
    "    glove_model.add(tf.keras.layers.Dense(1, activation='sigmoid'))\n",
    "\n",
    "    print(glove_model.summary())\n",
    "    \n",
    "    glove_model.compile(loss='binary_crossentropy', optimizer='adam', metrics=['accuracy'])\n",
    "    hist = glove_model.fit(train_ds,\n",
    "                           epochs=10,\n",
    "                           verbose=2,\n",
    "                           validation_data=val_ds,\n",
    "                           batch_size=batch_size,\n",
    "                           steps_per_epoch=steps_per_epoch)\n",
    "    \n",
    "    process_model(glove_model, hist, model_name, test_ds)\n",
    "\n",
    "train_glove_model()"
   ]
  },
  {
   "cell_type": "code",
   "execution_count": 29,
   "id": "884b2439",
   "metadata": {},
   "outputs": [
    {
     "data": {
      "image/png": "[encoded data removed]",
      "text/plain": [
       "<Figure size 1440x216 with 2 Axes>"
      ]
     },
     "metadata": {
      "needs_background": "light"
     },
     "output_type": "display_data"
    }
   ],
   "source": [
    "history = pd.read_csv(f'./models/{model_name}_history.csv')\n",
    "display_learning_curves(history)"
   ]
  },
  {
   "cell_type": "markdown",
   "id": "0f115e47",
   "metadata": {},
   "source": [
    "##### Glove + LSTM"
   ]
  },
  {
   "cell_type": "code",
   "execution_count": 30,
   "id": "83bcbc0d",
   "metadata": {},
   "outputs": [
    {
     "name": "stdout",
     "output_type": "stream",
     "text": [
      "Model: \"sequential_1\"\n",
      "_________________________________________________________________\n",
      "Layer (type)                 Output Shape              Param #   \n",
      "=================================================================\n",
      "embedding (Embedding)        (None, 26, 200)           999800    \n",
      "_________________________________________________________________\n",
      "lstm (LSTM)                  (None, 26, 128)           168448    \n",
      "_________________________________________________________________\n",
      "global_max_pooling1d (Global (None, 128)               0         \n",
      "_________________________________________________________________\n",
      "dense_1 (Dense)              (None, 64)                8256      \n",
      "_________________________________________________________________\n",
      "dense_2 (Dense)              (None, 1)                 65        \n",
      "=================================================================\n",
      "Total params: 1,176,569\n",
      "Trainable params: 176,769\n",
      "Non-trainable params: 999,800\n",
      "_________________________________________________________________\n",
      "None\n",
      "Epoch 1/10\n",
      "50000/50000 - 241s - loss: 0.5046 - accuracy: 0.7509 - val_loss: 0.4865 - val_accuracy: 0.7678\n",
      "Epoch 2/10\n",
      "50000/50000 - 236s - loss: 0.4795 - accuracy: 0.7682 - val_loss: 0.4812 - val_accuracy: 0.7706\n",
      "Epoch 3/10\n",
      "50000/50000 - 233s - loss: 0.4713 - accuracy: 0.7737 - val_loss: 0.4754 - val_accuracy: 0.7718\n",
      "Epoch 4/10\n",
      "50000/50000 - 234s - loss: 0.4655 - accuracy: 0.7762 - val_loss: 0.4755 - val_accuracy: 0.7748\n",
      "Epoch 5/10\n",
      "50000/50000 - 234s - loss: 0.4614 - accuracy: 0.7791 - val_loss: 0.4735 - val_accuracy: 0.7778\n",
      "Epoch 6/10\n",
      "50000/50000 - 233s - loss: 0.4589 - accuracy: 0.7812 - val_loss: 0.4757 - val_accuracy: 0.7772\n",
      "Epoch 7/10\n",
      "50000/50000 - 234s - loss: 0.4564 - accuracy: 0.7822 - val_loss: 0.4763 - val_accuracy: 0.7760\n",
      "Epoch 8/10\n",
      "50000/50000 - 232s - loss: 0.4545 - accuracy: 0.7835 - val_loss: 0.4771 - val_accuracy: 0.7740\n",
      "Epoch 9/10\n",
      "50000/50000 - 232s - loss: 0.4539 - accuracy: 0.7836 - val_loss: 0.4794 - val_accuracy: 0.7804\n",
      "Epoch 10/10\n",
      "50000/50000 - 233s - loss: 0.4528 - accuracy: 0.7845 - val_loss: 0.4750 - val_accuracy: 0.7766\n",
      "500/500 [==============================] - 1s 3ms/step - loss: 0.4654 - accuracy: 0.7774\n"
     ]
    }
   ],
   "source": [
    "model_name = \"glove_lstm_nn\"\n",
    "\n",
    "def train_glove_lstm_model(has_trained=0):\n",
    "    \n",
    "    glove_model = tf.keras.models.Sequential()\n",
    "    glove_model.add(embedding_layer) \n",
    "    glove_model.add(tf.keras.layers.LSTM(128,return_sequences=True,dropout=0.2))\n",
    "    glove_model.add(tf.keras.layers.GlobalMaxPooling1D())\n",
    "    glove_model.add(tf.keras.layers.Dense(64,activation='relu')) \n",
    "    glove_model.add(tf.keras.layers.Dense(1,activation='sigmoid')) \n",
    "\n",
    "    print(glove_model.summary())\n",
    "    \n",
    "    glove_model.compile(loss='binary_crossentropy', optimizer='adam', metrics=['accuracy'])\n",
    "    \n",
    "    hist = glove_model.fit(train_ds,\n",
    "                           epochs=10,\n",
    "                           verbose=2,\n",
    "                           validation_data=val_ds,\n",
    "                           batch_size=batch_size,\n",
    "                           steps_per_epoch=steps_per_epoch)\n",
    "    \n",
    "    process_model(glove_model, hist, model_name, test_ds)\n",
    "\n",
    "train_glove_lstm_model()"
   ]
  },
  {
   "cell_type": "code",
   "execution_count": 31,
   "id": "52e65f34",
   "metadata": {},
   "outputs": [
    {
     "data": {
      "image/png": "[encoded data removed]",
      "text/plain": [
       "<Figure size 1440x216 with 2 Axes>"
      ]
     },
     "metadata": {
      "needs_background": "light"
     },
     "output_type": "display_data"
    }
   ],
   "source": [
    "history = pd.read_csv(f'./models/{model_name}_history.csv')\n",
    "display_learning_curves(history)"
   ]
  },
  {
   "cell_type": "markdown",
   "id": "e207ae15",
   "metadata": {},
   "source": [
    "##### Word2vec"
   ]
  },
  {
   "cell_type": "code",
   "execution_count": 32,
   "id": "3d462057",
   "metadata": {},
   "outputs": [],
   "source": [
    "# word2vec_pretrained = gensim.models.KeyedVectors.load_word2vec_format('./models/GoogleNews-vectors-negative300.bin', binary=True)"
   ]
  },
  {
   "cell_type": "code",
   "execution_count": 33,
   "id": "4d2b151a",
   "metadata": {},
   "outputs": [
    {
     "name": "stdout",
     "output_type": "stream",
     "text": [
      "           model_name  accuracy      loss\n",
      "0       random_forest    0.7218       NaN\n",
      "1  random_forest_stem    0.7262       NaN\n",
      "2   random_forest_lem    0.7188       NaN\n",
      "3          vanilla_nn    0.7284  0.617380\n",
      "4         stemming_nn    0.7352  0.611000\n",
      "5    lemmatization_nn    0.7318  0.617316\n",
      "6           glove_cnn    0.7502  0.606238\n",
      "7       glove_lstm_nn    0.7774  0.465412\n"
     ]
    }
   ],
   "source": [
    "get_results()"
   ]
  },
  {
   "cell_type": "code",
   "execution_count": null,
   "id": "0d362c17",
   "metadata": {},
   "outputs": [],
   "source": []
  }
 ],
 "metadata": {
  "kernelspec": {
   "display_name": "Python 3 (ipykernel)",
   "language": "python",
   "name": "python3"
  },
  "language_info": {
   "codemirror_mode": {
    "name": "ipython",
    "version": 3
   },
   "file_extension": ".py",
   "mimetype": "text/x-python",
   "name": "python",
   "nbconvert_exporter": "python",
   "pygments_lexer": "ipython3",
   "version": "3.8.11"
  }
 },
 "nbformat": 4,
 "nbformat_minor": 5
}
