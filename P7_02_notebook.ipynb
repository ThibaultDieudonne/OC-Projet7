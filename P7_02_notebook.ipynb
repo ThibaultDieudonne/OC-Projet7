{
 "cells": [
  {
   "cell_type": "markdown",
   "id": "527d7230",
   "metadata": {},
   "source": [
    "# Détectez les bad buzz grace au Deeplearning"
   ]
  },
  {
   "cell_type": "code",
   "execution_count": 1,
   "id": "9d71684a",
   "metadata": {},
   "outputs": [],
   "source": [
    "import warnings\n",
    "warnings.simplefilter(action='ignore')\n",
    "# basic libs\n",
    "import os\n",
    "import numpy as np\n",
    "import pandas as pd\n",
    "import seaborn as sns\n",
    "import matplotlib.pyplot as plt\n",
    "import joblib\n",
    "import unidecode\n",
    "import gc\n",
    "from io import StringIO\n",
    "from timeit import default_timer as timer\n",
    "# text preprocessing\n",
    "import nltk\n",
    "import gensim\n",
    "from nltk.stem.snowball import EnglishStemmer\n",
    "from nltk.stem import WordNetLemmatizer\n",
    "from sklearn.feature_extraction.text import CountVectorizer\n",
    "# simple random forest regression\n",
    "from sklearn.ensemble import RandomForestClassifier\n",
    "from sklearn.model_selection import GridSearchCV\n",
    "# deeplearning\n",
    "import tensorflow as tf\n",
    "from sklearn.model_selection import RandomizedSearchCV\n",
    "# azure\n",
    "import requests\n",
    "from azure.ai.textanalytics import TextAnalyticsClient\n",
    "from azure.core.credentials import AzureKeyCredential\n",
    "from sklearn.metrics import accuracy_score, confusion_matrix, ConfusionMatrixDisplay\n",
    "\n",
    "pd.set_option('display.max_rows', None)\n",
    "pd.set_option('display.max_columns', None)\n",
    "pd.set_option('display.width', None)\n",
    "pd.set_option('display.max_colwidth', -1)\n",
    "\n",
    "trained = 1\n",
    "\n",
    "done_preprocessing = 1\n",
    "\n",
    "get_ready = 0\n",
    "\n",
    "if not done_preprocessing:\n",
    "    trained = 2"
   ]
  },
  {
   "cell_type": "code",
   "execution_count": 2,
   "id": "1a02578a",
   "metadata": {},
   "outputs": [],
   "source": [
    "# nltk.download()"
   ]
  },
  {
   "cell_type": "markdown",
   "id": "928138de",
   "metadata": {},
   "source": [
    "### Text preproccessing"
   ]
  },
  {
   "cell_type": "markdown",
   "id": "4bd0465b",
   "metadata": {},
   "source": [
    "On commence par tokéniser le texte (on ne garde que les mots, en supprimant la pontuation, les liens, les nombres ...).\n",
    "On retire également les \"stop-words\", c'est-à-dire tous les articles, déterminants, pronoms et mots de liaison.\n",
    "\n",
    "On trie le vocabulaire en utilisant comme référence les mots de l'embedding glove entraîné par l'Unversité de Stanford sur un dataset également issu de twitter. Ce traitement permet d'éliminer efficacement les twits pauvres, en se passant du moins possible de mots porteurs de sens.\n",
    "\n",
    "On applique ensuite deux traitements différents séparément pour comparer leurs performances: la lemmatisation (qui garde seulement la forme canonique des mots, par exemple le féminin singulier) et le stemming (qui garde uniquement le radical des mots). "
   ]
  },
  {
   "cell_type": "code",
   "execution_count": 3,
   "id": "be64a1cf",
   "metadata": {},
   "outputs": [],
   "source": [
    "test_size = 20000\n",
    "val_size = 20000\n",
    "\n",
    "small_features = 5000\n",
    "\n",
    "max_words = 25"
   ]
  },
  {
   "cell_type": "code",
   "execution_count": 4,
   "id": "245a1cd8",
   "metadata": {},
   "outputs": [],
   "source": [
    "def load_embedding(filename):\n",
    "    file = open(filename, encoding=\"utf8\")\n",
    "    lines = file.readlines()\n",
    "    file.close()\n",
    "    embedding = dict()\n",
    "    for line in lines:\n",
    "        parts = line.split()\n",
    "        embedding[parts[0]] = np.asarray(parts[1:], dtype='float32')\n",
    "    return embedding\n",
    "\n",
    "if not trained or not done_preprocessing or get_ready:\n",
    "    raw_embedding = load_embedding(\"./models/glove.twitter.27B.100d.txt\")"
   ]
  },
  {
   "cell_type": "code",
   "execution_count": 5,
   "id": "1de150fc",
   "metadata": {},
   "outputs": [],
   "source": [
    "def clean_up(text):\n",
    "        text = text.lower() # on retire les majuscules\n",
    "        for exclude in ['&quot;', '&amp;']: # on retire les caractères spéciaux \n",
    "            text = text.replace(exclude, ' ')\n",
    "        text = text.replace('-', '') # on unifie les mots séparés par des traits d'union\n",
    "        text = text.split()\n",
    "        for exclude in ['@', '/', 'www']: # on retire les liens et les utilisateurs identifiés\n",
    "            text = [w for w in text if not exclude in w]\n",
    "        text = ' '.join(text)\n",
    "        text = unidecode.unidecode(text) # on retire les accents et les éventuels caractères étrangers\n",
    "        # on tokenize le texte en supprimant les stop words\n",
    "        # on ne garde que les mots appartenants au dictionnaire de l'embedding glove\n",
    "        tokens = tokenizer.tokenize(text)\n",
    "        tokens = [w for w in tokens if not w in stop_words and w in raw_embedding]\n",
    "        # on tronque les twits trop long\n",
    "        if len(tokens) > max_words:\n",
    "            tokens = tokens[:max_words]\n",
    "        # on ne garde que les phrases de plus de 2 mots\n",
    "        return ' '.join(tokens) if len(tokens) > 1 else ''\n",
    "\n",
    "def update_target(tgt):\n",
    "        return 1 if tgt else 0\n",
    "    \n",
    "def to_small_vocab(text):\n",
    "    return \" \".join([w for w in text.split()if w in small_vanilla_vectoriser.vocabulary_])\n",
    "\n",
    "def stem(text):\n",
    "    return \" \".join([stemmer.stem(w) for w in text.split()])\n",
    "\n",
    "def lem(text):\n",
    "    return \" \".join([lemmatizer.lemmatize(w) for w in text.split()])\n",
    "\n",
    "if not done_preprocessing:\n",
    "    train_df = pd.read_csv('./data/dataset.csv', names=['target', 'id', 'date', 'flag', 'user', 'text'], encoding='latin-1')\n",
    "    train_df = train_df[['target', 'text']]\n",
    "    \n",
    "    tokenizer = nltk.RegexpTokenizer(r'\\w+')\n",
    "    stop_words = list(nltk.corpus.stopwords.words('english'))\n",
    "\n",
    "    with open(\"./azure/sw.txt\", 'w+') as f:\n",
    "        for w in stop_words:\n",
    "            f.write(w)\n",
    "            f.write('\\n')\n",
    "    \n",
    "    train_df[\"text\"] = train_df[\"text\"].apply(clean_up)\n",
    "    \n",
    "    train_df = train_df[train_df['text'] != \"\"]\n",
    "    \n",
    "    vanilla_vectoriser = CountVectorizer()\n",
    "    vanilla_vectoriser.fit(train_df[\"text\"].to_list())\n",
    "    joblib.dump(vanilla_vectoriser, \"./models/vanilla_vectoriser.joblib\")\n",
    "    \n",
    "    small_vanilla_vectoriser = CountVectorizer(max_features=small_features)\n",
    "    small_vanilla_vectoriser.fit(train_df[\"text\"].to_list())\n",
    "    joblib.dump(small_vanilla_vectoriser, \"./models/small_vanilla_vectoriser.joblib\")\n",
    "    \n",
    "    train_df[\"target\"] = train_df[\"target\"].apply(update_target)\n",
    "    \n",
    "    train_df = train_df.sample(frac=1)\n",
    "    \n",
    "    train_df.to_csv('./data/preprocessed.csv', index=False)"
   ]
  },
  {
   "cell_type": "code",
   "execution_count": 6,
   "id": "ae9e6ace",
   "metadata": {},
   "outputs": [],
   "source": [
    "if not done_preprocessing:\n",
    "    small_train_df = pd.read_csv('./data/preprocessed.csv')\n",
    "    \n",
    "    small_train_df[\"text\"] = small_train_df[\"text\"].apply(to_small_vocab)\n",
    "    \n",
    "    small_train_df = small_train_df[small_train_df[\"text\"].apply(lambda x: x.count(\" \") > 2)]\n",
    "    \n",
    "    stemmer = EnglishStemmer()\n",
    "    lemmatizer = WordNetLemmatizer()\n",
    "\n",
    "    small_train_df[\"text_stem\"] = small_train_df[\"text\"].apply(stem)\n",
    "\n",
    "    small_train_df[\"text_lem\"] = small_train_df[\"text\"].apply(lem)\n",
    "    \n",
    "    small_stem_vectoriser = CountVectorizer(max_features=small_features)\n",
    "    small_stem_vectoriser.fit(small_train_df[\"text_stem\"].to_list())\n",
    "    joblib.dump(small_stem_vectoriser, \"./models/small_stem_vectoriser.joblib\")\n",
    "\n",
    "    small_lem_vectoriser = CountVectorizer(max_features=small_features)\n",
    "    small_lem_vectoriser.fit(small_train_df[\"text_lem\"].to_list())\n",
    "    joblib.dump(small_lem_vectoriser, \"./models/small_lem_vectoriser.joblib\")\n",
    "    \n",
    "    # summary\n",
    "    \n",
    "    print(f\"Found {len(vanilla_vectoriser.vocabulary_)} unique tokens in vanilla text\")\n",
    "    print(f\"Final main dataframe size: {train_df.shape[0]}\")\n",
    "    print(f\"Final small dataframe size: {small_train_df.shape[0]}\")\n",
    "    \n",
    "    # make train test split\n",
    "    small_test_df = small_train_df.head(test_size)\n",
    "    small_train_df = small_train_df.tail(small_train_df.shape[0] - test_size)\n",
    "    small_val_df = small_train_df.head(val_size)\n",
    "    small_train_df = small_train_df.tail(small_train_df.shape[0] - val_size)\n",
    "    small_test_df.to_csv('./data/small_text_test.csv', index=False)\n",
    "    small_val_df.to_csv('./data/small_text_val.csv', index=False)\n",
    "    small_train_df.to_csv('./data/small_text_train.csv', index=False)\n",
    "    \n",
    "    test_df = train_df.head(test_size)\n",
    "    train_df = train_df.tail(train_df.shape[0] - test_size)\n",
    "    val_df = train_df.head(val_size)\n",
    "    train_df = train_df.tail(train_df.shape[0] - val_size)\n",
    "    test_df.to_csv('./data/text_test.csv', index=False)\n",
    "    val_df.to_csv('./data/text_val.csv', index=False)\n",
    "    train_df.to_csv('./data/text_train.csv', index=False)\n"
   ]
  },
  {
   "cell_type": "code",
   "execution_count": 7,
   "id": "8bbdad6b",
   "metadata": {},
   "outputs": [],
   "source": [
    "def save_vocabulary():\n",
    "    with open(\"./azure/vocabulary.txt\", 'w+') as f:\n",
    "        vanilla_vectoriser = joblib.load(\"./models/vanilla_vectoriser.joblib\")\n",
    "        for w in vanilla_vectoriser.vocabulary_:\n",
    "            f.write(w)\n",
    "            f.write('\\n')\n",
    "                    \n",
    "def load_voc():\n",
    "    with open(\"./azure/vocabulary.txt\", 'r') as f:\n",
    "        lines = f.readlines()\n",
    "    return [*map(lambda x: x[:-1], lines)]\n",
    "\n",
    "if not done_preprocessing:            \n",
    "    save_vocabulary()"
   ]
  },
  {
   "cell_type": "code",
   "execution_count": 8,
   "id": "bb0eb36f",
   "metadata": {},
   "outputs": [
    {
     "data": {
      "text/html": [
       "<div>\n",
       "<style scoped>\n",
       "    .dataframe tbody tr th:only-of-type {\n",
       "        vertical-align: middle;\n",
       "    }\n",
       "\n",
       "    .dataframe tbody tr th {\n",
       "        vertical-align: top;\n",
       "    }\n",
       "\n",
       "    .dataframe thead th {\n",
       "        text-align: right;\n",
       "    }\n",
       "</style>\n",
       "<table border=\"1\" class=\"dataframe\">\n",
       "  <thead>\n",
       "    <tr style=\"text-align: right;\">\n",
       "      <th></th>\n",
       "      <th>target</th>\n",
       "      <th>text</th>\n",
       "    </tr>\n",
       "  </thead>\n",
       "  <tbody>\n",
       "    <tr>\n",
       "      <th>0</th>\n",
       "      <td>0</td>\n",
       "      <td>want go back work</td>\n",
       "    </tr>\n",
       "    <tr>\n",
       "      <th>1</th>\n",
       "      <td>1</td>\n",
       "      <td>changing headlights groceries cleaning house amazing roast dinner prep teaching fantastic saturday book</td>\n",
       "    </tr>\n",
       "    <tr>\n",
       "      <th>2</th>\n",
       "      <td>0</td>\n",
       "      <td>says find devout christians weird sorry</td>\n",
       "    </tr>\n",
       "    <tr>\n",
       "      <th>3</th>\n",
       "      <td>1</td>\n",
       "      <td>oooo pantesan huehehe ternyata lo ga di indo remembering pecel thing</td>\n",
       "    </tr>\n",
       "    <tr>\n",
       "      <th>4</th>\n",
       "      <td>1</td>\n",
       "      <td>give congratulations</td>\n",
       "    </tr>\n",
       "  </tbody>\n",
       "</table>\n",
       "</div>"
      ],
      "text/plain": [
       "   target  \\\n",
       "0  0        \n",
       "1  1        \n",
       "2  0        \n",
       "3  1        \n",
       "4  1        \n",
       "\n",
       "                                                                                                      text  \n",
       "0  want go back work                                                                                        \n",
       "1  changing headlights groceries cleaning house amazing roast dinner prep teaching fantastic saturday book  \n",
       "2  says find devout christians weird sorry                                                                  \n",
       "3  oooo pantesan huehehe ternyata lo ga di indo remembering pecel thing                                     \n",
       "4  give congratulations                                                                                     "
      ]
     },
     "execution_count": 8,
     "metadata": {},
     "output_type": "execute_result"
    }
   ],
   "source": [
    "train_df = pd.read_csv(f'./data/text_train.csv')\n",
    "test_df = pd.read_csv(f'./data/text_test.csv')\n",
    "val_df = pd.read_csv(f'./data/text_val.csv')\n",
    "    \n",
    "train_df.head()"
   ]
  },
  {
   "cell_type": "code",
   "execution_count": 9,
   "id": "27ba13b1",
   "metadata": {},
   "outputs": [
    {
     "data": {
      "text/html": [
       "<div>\n",
       "<style scoped>\n",
       "    .dataframe tbody tr th:only-of-type {\n",
       "        vertical-align: middle;\n",
       "    }\n",
       "\n",
       "    .dataframe tbody tr th {\n",
       "        vertical-align: top;\n",
       "    }\n",
       "\n",
       "    .dataframe thead th {\n",
       "        text-align: right;\n",
       "    }\n",
       "</style>\n",
       "<table border=\"1\" class=\"dataframe\">\n",
       "  <thead>\n",
       "    <tr style=\"text-align: right;\">\n",
       "      <th></th>\n",
       "      <th>target</th>\n",
       "      <th>text</th>\n",
       "      <th>text_stem</th>\n",
       "      <th>text_lem</th>\n",
       "    </tr>\n",
       "  </thead>\n",
       "  <tbody>\n",
       "    <tr>\n",
       "      <th>0</th>\n",
       "      <td>1</td>\n",
       "      <td>vs coming xbox live omfg nice</td>\n",
       "      <td>vs come xbox live omfg nice</td>\n",
       "      <td>v coming xbox live omfg nice</td>\n",
       "    </tr>\n",
       "    <tr>\n",
       "      <th>1</th>\n",
       "      <td>0</td>\n",
       "      <td>thanks tv meh lol seriously shouldnt watch</td>\n",
       "      <td>thank tv meh lol serious shouldnt watch</td>\n",
       "      <td>thanks tv meh lol seriously shouldnt watch</td>\n",
       "    </tr>\n",
       "    <tr>\n",
       "      <th>2</th>\n",
       "      <td>1</td>\n",
       "      <td>waiting hair dry make megan wish would already need daily dose hit list</td>\n",
       "      <td>wait hair dri make megan wish would alreadi need daili dose hit list</td>\n",
       "      <td>waiting hair dry make megan wish would already need daily dose hit list</td>\n",
       "    </tr>\n",
       "    <tr>\n",
       "      <th>3</th>\n",
       "      <td>1</td>\n",
       "      <td>lol haha know feel much going july needs asap friday finally</td>\n",
       "      <td>lol haha know feel much go juli need asap friday final</td>\n",
       "      <td>lol haha know feel much going july need asap friday finally</td>\n",
       "    </tr>\n",
       "    <tr>\n",
       "      <th>4</th>\n",
       "      <td>0</td>\n",
       "      <td>lisa wants say cares wants stay touch really doesnt luv us kidding talking</td>\n",
       "      <td>lisa want say care want stay touch realli doesnt luv us kid talk</td>\n",
       "      <td>lisa want say care want stay touch really doesnt luv u kidding talking</td>\n",
       "    </tr>\n",
       "  </tbody>\n",
       "</table>\n",
       "</div>"
      ],
      "text/plain": [
       "   target  \\\n",
       "0  1        \n",
       "1  0        \n",
       "2  1        \n",
       "3  1        \n",
       "4  0        \n",
       "\n",
       "                                                                         text  \\\n",
       "0  vs coming xbox live omfg nice                                                \n",
       "1  thanks tv meh lol seriously shouldnt watch                                   \n",
       "2  waiting hair dry make megan wish would already need daily dose hit list      \n",
       "3  lol haha know feel much going july needs asap friday finally                 \n",
       "4  lisa wants say cares wants stay touch really doesnt luv us kidding talking   \n",
       "\n",
       "                                                              text_stem  \\\n",
       "0  vs come xbox live omfg nice                                            \n",
       "1  thank tv meh lol serious shouldnt watch                                \n",
       "2  wait hair dri make megan wish would alreadi need daili dose hit list   \n",
       "3  lol haha know feel much go juli need asap friday final                 \n",
       "4  lisa want say care want stay touch realli doesnt luv us kid talk       \n",
       "\n",
       "                                                                  text_lem  \n",
       "0  v coming xbox live omfg nice                                             \n",
       "1  thanks tv meh lol seriously shouldnt watch                               \n",
       "2  waiting hair dry make megan wish would already need daily dose hit list  \n",
       "3  lol haha know feel much going july need asap friday finally              \n",
       "4  lisa want say care want stay touch really doesnt luv u kidding talking   "
      ]
     },
     "execution_count": 9,
     "metadata": {},
     "output_type": "execute_result"
    }
   ],
   "source": [
    "small_train_df = pd.read_csv(f'./data/small_text_train.csv')\n",
    "small_test_df = pd.read_csv(f'./data/small_text_test.csv')\n",
    "small_val_df = pd.read_csv(f'./data/small_text_val.csv')\n",
    "    \n",
    "small_train_df.head()"
   ]
  },
  {
   "cell_type": "code",
   "execution_count": 10,
   "id": "417eec36",
   "metadata": {},
   "outputs": [],
   "source": [
    "results_file = f'./results.csv'\n",
    "\n",
    "if not os.path.isfile(results_file):\n",
    "    results = pd.DataFrame(columns=['model_name', 'accuracy', 'time', 'loss'])\n",
    "    results.to_csv(results_file, index=False)\n",
    "\n",
    "def add_result(name, accuracy, time, loss=None):\n",
    "    result_df = pd.read_csv(results_file)\n",
    "    result_df = result_df[result_df[\"model_name\"] != name]\n",
    "    result_df = result_df.append({\"model_name\": name, \"accuracy\": accuracy, \"time\": time, \"loss\": loss}, ignore_index=True)\n",
    "    result_df.to_csv(results_file, index=False)\n",
    "    \n",
    "def get_results():\n",
    "    result_df = pd.read_csv(results_file)\n",
    "    print(result_df.head(20))"
   ]
  },
  {
   "cell_type": "markdown",
   "id": "c4818c5c",
   "metadata": {},
   "source": [
    "### Baseline\n",
    "\n",
    "Le modèle de base servant de références aux autres modèles est une simple régression (random forest) appliquée sur les bag-of-words.\n",
    "\n",
    "Comme la variable cible du jeu de données est balancée, on utilisera l'accuracy comme mesure de référence"
   ]
  },
  {
   "cell_type": "code",
   "execution_count": 11,
   "id": "f84ec123",
   "metadata": {},
   "outputs": [],
   "source": [
    "opti = 0\n",
    "\n",
    "n_rows_train = 100000"
   ]
  },
  {
   "cell_type": "code",
   "execution_count": 12,
   "id": "f0d74548",
   "metadata": {},
   "outputs": [],
   "source": [
    "if not trained:\n",
    "    small_vanilla_vectoriser = joblib.load(\"./models/small_vanilla_vectoriser.joblib\")\n",
    "    small_stem_vectoriser = joblib.load(\"./models/small_stem_vectoriser.joblib\")\n",
    "    small_lem_vectoriser = joblib.load(\"./models/small_lem_vectoriser.joblib\")\n",
    "    \n",
    "    train_vectorized = small_vanilla_vectoriser.transform(small_train_df[\"text\"].head(n_rows_train).to_list()).toarray()\n",
    "    test_vectorized = small_vanilla_vectoriser.transform(small_test_df[\"text\"].to_list()).toarray()\n",
    "    val_vectorized = small_vanilla_vectoriser.transform(small_val_df[\"text\"].to_list()).toarray()\n",
    "    \n",
    "    train_vectorized_stem = small_stem_vectoriser.transform(small_train_df[\"text_stem\"].head(n_rows_train).to_list()).toarray()\n",
    "    test_vectorized_stem = small_stem_vectoriser.transform(small_test_df[\"text_stem\"].to_list()).toarray()\n",
    "    val_vectorized_stem = small_stem_vectoriser.transform(small_val_df[\"text_stem\"].to_list()).toarray()\n",
    "    \n",
    "    train_vectorized_lem = small_lem_vectoriser.transform(small_train_df[\"text_lem\"].head(n_rows_train).to_list()).toarray()\n",
    "    test_vectorized_lem = small_lem_vectoriser.transform(small_test_df[\"text_lem\"].to_list()).toarray()\n",
    "    val_vectorized_lem = small_lem_vectoriser.transform(small_val_df[\"text_lem\"].to_list()).toarray()\n",
    "    \n",
    "    target = small_train_df[\"target\"].head(n_rows_train).to_list()\n",
    "    test_target = small_test_df[\"target\"].to_list()"
   ]
  },
  {
   "cell_type": "code",
   "execution_count": 13,
   "id": "97da4fc0",
   "metadata": {},
   "outputs": [],
   "source": [
    "if opti:\n",
    "    rfc=RandomForestClassifier(random_state=42)\n",
    "    param_grid = { \n",
    "        'n_estimators': [100, 1000],\n",
    "        'max_features': ['sqrt', 'log2']\n",
    "    }\n",
    "    forest_grid = GridSearchCV(estimator=rfc,\n",
    "                               param_grid=param_grid,\n",
    "                               cv=10, scoring=\"accuracy\"\n",
    "                               n_jobs=-1)\n",
    "    forest_grid.fit(train_vectorized, target)\n",
    "    print(forest_grid.best_params_)\n",
    "    print(\"accuracy :\", forest_grid.best_score_)\n",
    "    forest_params = forest_grid.best_params_\n",
    "else:\n",
    "    forest_params = {'max_features': 'sqrt', 'n_estimators': 1000}\n",
    "    \n",
    "def train_rf(tr_dataset, te_dataset, name):\n",
    "    t0 = timer()\n",
    "    random_forest = RandomForestClassifier(\n",
    "                    n_estimators=forest_params['n_estimators'],\n",
    "                    random_state=50,\n",
    "                    max_features=forest_params['max_features'],\n",
    "                    verbose=False,\n",
    "                    n_jobs=-1)\n",
    "    random_forest.fit(tr_dataset, target)\n",
    "    joblib.dump(random_forest, f\"./models/{name}.joblib\")\n",
    "    \n",
    "    perf = random_forest.score(te_dataset, test_target)\n",
    "    t1 = timer() - t0\n",
    "    \n",
    "    add_result(name, perf, t1)\n",
    "    \n",
    "    del random_forest\n",
    "    gc.collect()"
   ]
  },
  {
   "cell_type": "markdown",
   "id": "2356ff15",
   "metadata": {},
   "source": [
    "#### Vanilla"
   ]
  },
  {
   "cell_type": "code",
   "execution_count": 14,
   "id": "4371e56a",
   "metadata": {},
   "outputs": [],
   "source": [
    "if not trained:\n",
    "    train_rf(train_vectorized, test_vectorized, \"random_forest\")"
   ]
  },
  {
   "cell_type": "markdown",
   "id": "ed0fdd68",
   "metadata": {},
   "source": [
    "#### Avec stemming"
   ]
  },
  {
   "cell_type": "code",
   "execution_count": 15,
   "id": "56945d99",
   "metadata": {},
   "outputs": [],
   "source": [
    "if not trained:\n",
    "    train_rf(train_vectorized_stem, test_vectorized_stem, \"random_forest_stem\")"
   ]
  },
  {
   "cell_type": "markdown",
   "id": "c99ed51d",
   "metadata": {},
   "source": [
    "#### Avec lemmatization"
   ]
  },
  {
   "cell_type": "code",
   "execution_count": 16,
   "id": "74d93c85",
   "metadata": {},
   "outputs": [],
   "source": [
    "if not trained:\n",
    "    train_rf(train_vectorized_lem, test_vectorized_lem, \"random_forest_lem\")"
   ]
  },
  {
   "cell_type": "markdown",
   "id": "2b193bc1",
   "metadata": {},
   "source": [
    "### Deeplearning"
   ]
  },
  {
   "cell_type": "code",
   "execution_count": 17,
   "id": "cd29ef94",
   "metadata": {},
   "outputs": [],
   "source": [
    "BUFFER_SIZE = 1000\n",
    "\n",
    "AUTOTUNE = tf.data.AUTOTUNE\n",
    "\n",
    "def process_model(model, hist, name, test_dataset, time):\n",
    "    # get results\n",
    "    history = pd.DataFrame(data=hist.history)\n",
    "    model_performance = model.evaluate(test_dataset)\n",
    "    # save results\n",
    "    model.save(f\"./models/{name}.h5\")\n",
    "    history.to_csv(f'./models/{name}_history.csv', index=False)\n",
    "    model.save_weights(f'./models/{name}_weights.h5')\n",
    "    add_result(name, model_performance[1], time, model_performance[0])\n",
    "\n",
    "\n",
    "def display_learning_curves(hst):\n",
    "    fig, ax = plt.subplots(1, 2, figsize=(20, 3))\n",
    "    ax = ax.ravel()\n",
    "\n",
    "    for i, met in enumerate(['accuracy', 'loss']):\n",
    "        ax[i].plot(hst[met])\n",
    "        ax[i].plot(hst['val_' + met])\n",
    "        ax[i].set_title('Model {}'.format(met))\n",
    "        ax[i].set_xlabel('epochs')\n",
    "        ax[i].set_ylabel(met)\n",
    "        ax[i].legend(['train', 'val'])\n",
    "    \n",
    "    plt.show()\n",
    "    \n",
    "def load_doc(filename):\n",
    "    file = open(filename, 'r')\n",
    "    text = file.read()\n",
    "    file.close()\n",
    "    return text"
   ]
  },
  {
   "cell_type": "markdown",
   "id": "35c3ce31",
   "metadata": {},
   "source": [
    "#### Modèles simples"
   ]
  },
  {
   "cell_type": "code",
   "execution_count": 18,
   "id": "ddf0d4e4",
   "metadata": {},
   "outputs": [],
   "source": [
    "n_epochs = 20\n",
    "\n",
    "batch_size = 16\n",
    "\n",
    "data_passes = 1\n",
    "\n",
    "steps_per_epoch = (train_df.shape[0] * data_passes) // (batch_size * n_epochs)"
   ]
  },
  {
   "cell_type": "code",
   "execution_count": 19,
   "id": "af9f0ec2",
   "metadata": {},
   "outputs": [],
   "source": [
    "# get targets\n",
    "y_train = np.asarray(small_train_df[\"target\"].to_list())\n",
    "y_test = np.asarray(small_test_df[\"target\"].to_list())\n",
    "y_val = np.asarray(small_val_df[\"target\"].to_list())"
   ]
  },
  {
   "cell_type": "code",
   "execution_count": 20,
   "id": "b3fd5f37",
   "metadata": {},
   "outputs": [],
   "source": [
    "def py_vectorize(txt):\n",
    "    return vectorizer.transform([str(txt.numpy())]).toarray()[0]\n",
    "\n",
    "def vectorize(txt, tgt):\n",
    "    txt_vectorized = tf.py_function(py_vectorize, inp=[txt], Tout=[tf.int32])\n",
    "    txt_vectorized = tf.convert_to_tensor(txt_vectorized[0], dtype=tf.int32)\n",
    "    txt_vectorized.set_shape([input_dim])\n",
    "    return txt_vectorized, tgt\n",
    "\n",
    "def train_simple_nn(train_dataset, test_dataset, validation_dataset, name):\n",
    "     # make tf datasets\n",
    "    train_ds = tf.data.Dataset.from_tensor_slices((np.asarray(train_dataset), tf.cast(y_train, tf.int32))).shuffle(BUFFER_SIZE)\n",
    "    test_ds = tf.data.Dataset.from_tensor_slices((np.asarray(test_dataset), tf.cast(y_test, tf.int32)))\n",
    "    val_ds = tf.data.Dataset.from_tensor_slices((np.asarray(validation_dataset), tf.cast(y_val, tf.int32))).shuffle(BUFFER_SIZE)\n",
    "    # preprocess datasets\n",
    "    train_ds = train_ds.map(vectorize, num_parallel_calls=AUTOTUNE)\n",
    "    train_ds = train_ds.repeat()\n",
    "    train_ds = train_ds.batch(batch_size)\n",
    "    train_ds = train_ds.prefetch(buffer_size=AUTOTUNE)\n",
    "    test_ds = test_ds.map(vectorize, num_parallel_calls=AUTOTUNE)\n",
    "    test_ds = test_ds.batch(batch_size)\n",
    "    val_ds = val_ds.map(vectorize, num_parallel_calls=AUTOTUNE)\n",
    "    val_ds = val_ds.batch(batch_size)\n",
    "    val_ds = val_ds.prefetch(buffer_size=AUTOTUNE)\n",
    "    # build model\n",
    "    model = tf.keras.models.Sequential()\n",
    "    \n",
    "    model.add(tf.keras.layers.Dense(10, input_dim=input_dim, activation='relu'))\n",
    "    \n",
    "    model.add(tf.keras.layers.Dense(1, activation='sigmoid'))\n",
    "    \n",
    "    model.compile(loss='binary_crossentropy', \n",
    "                  optimizer=\"adam\", \n",
    "                  metrics=['accuracy'])\n",
    "    \n",
    "    # train model\n",
    "    t0 = timer()\n",
    "    \n",
    "    print(model.summary())\n",
    "    \n",
    "    hist = model.fit(train_ds,\n",
    "                     epochs=n_epochs,\n",
    "                     verbose=2,\n",
    "                     validation_data=val_ds,\n",
    "                     batch_size=batch_size,\n",
    "                     steps_per_epoch=steps_per_epoch)\n",
    "    t1 = timer() - t0\n",
    "    process_model(model, hist, name, test_ds, t1)\n",
    "    \n",
    "    # cleaning\n",
    "    del train_ds\n",
    "    del test_ds\n",
    "    del val_ds\n",
    "    gc.collect()\n",
    "    "
   ]
  },
  {
   "cell_type": "markdown",
   "id": "9add94f9",
   "metadata": {},
   "source": [
    "##### Vanilla"
   ]
  },
  {
   "cell_type": "code",
   "execution_count": 21,
   "id": "5507ced8",
   "metadata": {
    "scrolled": false
   },
   "outputs": [],
   "source": [
    "model_name = \"vanilla_nn\"\n",
    "if not trained:\n",
    "    vectorizer = small_vanilla_vectoriser\n",
    "    input_dim = len(vectorizer.vocabulary_)\n",
    "    train_simple_nn(small_train_df[\"text\"].to_list(),\n",
    "                    small_test_df[\"text\"].to_list(),\n",
    "                    small_val_df[\"text\"].to_list(),\n",
    "                    model_name)"
   ]
  },
  {
   "cell_type": "code",
   "execution_count": 22,
   "id": "0949c73f",
   "metadata": {},
   "outputs": [
    {
     "data": {
      "image/png": "[encoded data removed]",
      "text/plain": [
       "<Figure size 1440x216 with 2 Axes>"
      ]
     },
     "metadata": {
      "needs_background": "light"
     },
     "output_type": "display_data"
    }
   ],
   "source": [
    "if trained==1:\n",
    "    history = pd.read_csv(f'./models/{model_name}_history.csv')\n",
    "    display_learning_curves(history)"
   ]
  },
  {
   "cell_type": "markdown",
   "id": "598e2885",
   "metadata": {},
   "source": [
    "##### Stemming"
   ]
  },
  {
   "cell_type": "code",
   "execution_count": 23,
   "id": "fb8d0350",
   "metadata": {},
   "outputs": [],
   "source": [
    "model_name = \"stemming_nn\"\n",
    "if not trained:\n",
    "    vectorizer = small_stem_vectoriser\n",
    "    input_dim = len(vectorizer.vocabulary_)\n",
    "    train_simple_nn(small_train_df[\"text_stem\"].to_list(),\n",
    "                    small_test_df[\"text_stem\"].to_list(),\n",
    "                    small_val_df[\"text_stem\"].to_list(),\n",
    "                    model_name)"
   ]
  },
  {
   "cell_type": "code",
   "execution_count": 24,
   "id": "4549f5de",
   "metadata": {},
   "outputs": [
    {
     "data": {
      "image/png": "[encoded data removed]",
      "text/plain": [
       "<Figure size 1440x216 with 2 Axes>"
      ]
     },
     "metadata": {
      "needs_background": "light"
     },
     "output_type": "display_data"
    }
   ],
   "source": [
    "if trained==1:\n",
    "    history = pd.read_csv(f'./models/{model_name}_history.csv')\n",
    "    display_learning_curves(history)"
   ]
  },
  {
   "cell_type": "markdown",
   "id": "bcba7261",
   "metadata": {},
   "source": [
    "##### Lemmatization"
   ]
  },
  {
   "cell_type": "code",
   "execution_count": 25,
   "id": "ae6778f6",
   "metadata": {},
   "outputs": [],
   "source": [
    "model_name = \"lemmatization_nn\"\n",
    "if not trained:\n",
    "    vectorizer = small_lem_vectoriser\n",
    "    input_dim = len(vectorizer.vocabulary_)\n",
    "    train_simple_nn(small_train_df[\"text_lem\"].to_list(),\n",
    "                    small_test_df[\"text_lem\"].to_list(),\n",
    "                    small_val_df[\"text_lem\"].to_list(),\n",
    "                    model_name)"
   ]
  },
  {
   "cell_type": "code",
   "execution_count": 26,
   "id": "b2a39e9d",
   "metadata": {},
   "outputs": [
    {
     "data": {
      "image/png": "[encoded data removed]",
      "text/plain": [
       "<Figure size 1440x216 with 2 Axes>"
      ]
     },
     "metadata": {
      "needs_background": "light"
     },
     "output_type": "display_data"
    }
   ],
   "source": [
    "if trained==1:\n",
    "    history = pd.read_csv(f'./models/{model_name}_history.csv')\n",
    "    display_learning_curves(history)"
   ]
  },
  {
   "cell_type": "markdown",
   "id": "ed26dfc1",
   "metadata": {},
   "source": [
    "#### Utilisation de modèles de plongement de mots"
   ]
  },
  {
   "cell_type": "code",
   "execution_count": 27,
   "id": "229db3ba",
   "metadata": {},
   "outputs": [],
   "source": [
    "n_epochs = 20\n",
    "\n",
    "batch_size = 64\n",
    "\n",
    "data_passes = 2\n",
    "\n",
    "steps_per_epoch = (train_df.shape[0] * data_passes) // (batch_size * n_epochs)"
   ]
  },
  {
   "cell_type": "code",
   "execution_count": 28,
   "id": "2e790a75",
   "metadata": {},
   "outputs": [],
   "source": [
    "# get targets\n",
    "y_train = np.asarray(train_df[\"target\"].to_list())\n",
    "y_test = np.asarray(test_df[\"target\"].to_list())\n",
    "y_val = np.asarray(val_df[\"target\"].to_list())"
   ]
  },
  {
   "cell_type": "code",
   "execution_count": 29,
   "id": "d7aed0b3",
   "metadata": {},
   "outputs": [
    {
     "name": "stdout",
     "output_type": "stream",
     "text": [
      "Sequences encoded on 25 words\n"
     ]
    }
   ],
   "source": [
    "if not trained or get_ready:\n",
    "    X_train = train_df[\"text\"].to_list()\n",
    "    X_test = test_df[\"text\"].to_list()\n",
    "    X_val = val_df[\"text\"].to_list()\n",
    "\n",
    "    def encoder(data_train, data_test, data_val):\n",
    "        tokenizer = tf.keras.preprocessing.text.Tokenizer()\n",
    "        tokenizer.fit_on_texts(data_train)\n",
    "        encoded_train = tokenizer.texts_to_sequences(data_train)\n",
    "        encoded_test = tokenizer.texts_to_sequences(data_test)\n",
    "        encoded_val = tokenizer.texts_to_sequences(data_val)\n",
    "        max_len = max([len(s.split()) for s in data_train])\n",
    "        train_data = np.asarray(tf.keras.preprocessing.sequence.pad_sequences(encoded_train, maxlen=max_len, padding='post'))\n",
    "        test_data = np.asarray(tf.keras.preprocessing.sequence.pad_sequences(encoded_test, maxlen=max_len, padding='post'))\n",
    "        val_data = np.asarray(tf.keras.preprocessing.sequence.pad_sequences(encoded_val, maxlen=max_len, padding='post'))\n",
    "\n",
    "        return train_data, test_data, val_data, max_len, tokenizer\n",
    "\n",
    "    X_train, X_test, X_val, vanilla_input_dim, vanilla_tokenizer = encoder(X_train, X_test, X_val)\n",
    "    \n",
    "    if not trained:\n",
    "        joblib.dump(vanilla_tokenizer, \"./azure/tokenizer.joblib\")\n",
    "      \n",
    "    # make tf datasets\n",
    "    train_ds = tf.data.Dataset.from_tensor_slices((X_train, tf.cast(y_train, tf.int32))).shuffle(BUFFER_SIZE)\n",
    "    test_ds = tf.data.Dataset.from_tensor_slices((X_test, tf.cast(y_test, tf.int32)))\n",
    "    val_ds = tf.data.Dataset.from_tensor_slices((X_val, tf.cast(y_val, tf.int32))).shuffle(BUFFER_SIZE)\n",
    "    # preprocess datasets\n",
    "    train_ds = train_ds.repeat()\n",
    "    train_ds = train_ds.batch(batch_size)\n",
    "    train_ds = train_ds.prefetch(buffer_size=AUTOTUNE)\n",
    "    test_ds = test_ds.batch(batch_size)\n",
    "    val_ds = val_ds.batch(batch_size)\n",
    "    val_ds = val_ds.prefetch(buffer_size=AUTOTUNE)\n",
    "    \n",
    "    print(f\"Sequences encoded on {vanilla_input_dim} words\")\n",
    "    "
   ]
  },
  {
   "cell_type": "markdown",
   "id": "f219fd7b",
   "metadata": {},
   "source": [
    "##### Glove"
   ]
  },
  {
   "cell_type": "code",
   "execution_count": 30,
   "id": "e701a25e",
   "metadata": {},
   "outputs": [],
   "source": [
    "glove_dim = 100"
   ]
  },
  {
   "cell_type": "code",
   "execution_count": 31,
   "id": "7e316dd8",
   "metadata": {},
   "outputs": [],
   "source": [
    "def get_weight_matrix(embedding, vocab):\n",
    "    vocab_size = len(vocab) + 1\n",
    "    weight_matrix = np.zeros((vocab_size, glove_dim))\n",
    "    for word, i in vocab.items():\n",
    "        vector = embedding.get(word)\n",
    "        if vector is not None:\n",
    "            weight_matrix[i] = vector\n",
    "    return weight_matrix\n",
    "\n",
    "if not trained or get_ready:\n",
    "    vocab_size = len(vanilla_tokenizer.word_index) + 1\n",
    "    embedding_vectors = get_weight_matrix(raw_embedding, vanilla_tokenizer.word_index)\n",
    "    embedding_layer = tf.keras.layers.Embedding(vocab_size, glove_dim, weights=[embedding_vectors], input_length=vanilla_input_dim, trainable=True)"
   ]
  },
  {
   "cell_type": "code",
   "execution_count": 32,
   "id": "ef3d542a",
   "metadata": {},
   "outputs": [],
   "source": [
    "model_name = \"glove_cnn\"\n",
    "\n",
    "def create_glove_model(learning_rate=0.001):\n",
    "    model = tf.keras.models.Sequential()\n",
    "    model.add(embedding_layer)\n",
    "    model.add(tf.keras.layers.Conv1D(filters=128, kernel_size=8, activation='relu'))\n",
    "    model.add(tf.keras.layers.MaxPooling1D(pool_size=2))\n",
    "    model.add(tf.keras.layers.Flatten())\n",
    "    model.add(tf.keras.layers.Dense(10, activation='relu'))\n",
    "    model.add(tf.keras.layers.Dense(1, activation='sigmoid'))\n",
    "    model.compile(optimizer=tf.keras.optimizers.Adamax(learning_rate=learning_rate),\n",
    "                  loss='binary_crossentropy',\n",
    "                  metrics=['accuracy'])\n",
    "    return model\n",
    "\n",
    "\n",
    "def optimize_glove_model():\n",
    "    param_grid = dict(learning_rate=[\n",
    "                         0.001,\n",
    "                         0.0001,\n",
    "                         0.00001,\n",
    "                         tf.keras.optimizers.schedules.ExponentialDecay(\n",
    "                             initial_learning_rate=1e-2,\n",
    "                             decay_steps=10000,\n",
    "                             decay_rate=0.9)])\n",
    "\n",
    "    model = tf.keras.wrappers.scikit_learn.KerasClassifier(build_fn=create_glove_model,\n",
    "                                                           epochs=2, batch_size=batch_size,\n",
    "                                                           verbose=False)\n",
    "    \n",
    "    grid = RandomizedSearchCV(estimator=model, param_distributions=param_grid,\n",
    "                              cv=4, verbose=1, n_iter=5)\n",
    "    grid_result = grid.fit(X_train, y_train)\n",
    "\n",
    "    # Evaluate testing set\n",
    "    test_accuracy = grid.score(X_test, y_test)\n",
    "\n",
    "    # Save and evaluate results\n",
    "    with open(\"parameters.txt\", 'w+') as f:\n",
    "        s = str(grid_result.best_params_)\n",
    "        print(s)\n",
    "        f.write(s)\n",
    "        \n",
    "# optimize_glove_model()"
   ]
  },
  {
   "cell_type": "code",
   "execution_count": 33,
   "id": "51dc88aa",
   "metadata": {},
   "outputs": [],
   "source": [
    "def train_glove_model():\n",
    "    lr = tf.keras.optimizers.schedules.ExponentialDecay(\n",
    "             initial_learning_rate=1e-2,\n",
    "             decay_steps=10000,\n",
    "             decay_rate=0.9)\n",
    "    \n",
    "    glove_model = create_glove_model(lr)\n",
    "    \n",
    "    print(glove_model.summary())\n",
    "    \n",
    "    t0 = timer()\n",
    "    hist = glove_model.fit(train_ds,\n",
    "                           epochs=n_epochs,\n",
    "                           verbose=2,\n",
    "                           validation_data=val_ds,\n",
    "                           batch_size=batch_size,\n",
    "                           steps_per_epoch=steps_per_epoch)\n",
    "    t1 = timer() - t0\n",
    "    process_model(glove_model, hist, model_name, test_ds, t1)\n",
    "\n",
    "if not trained:\n",
    "    train_glove_model()"
   ]
  },
  {
   "cell_type": "code",
   "execution_count": 34,
   "id": "884b2439",
   "metadata": {},
   "outputs": [
    {
     "data": {
      "image/png": "[encoded data removed]",
      "text/plain": [
       "<Figure size 1440x216 with 2 Axes>"
      ]
     },
     "metadata": {
      "needs_background": "light"
     },
     "output_type": "display_data"
    }
   ],
   "source": [
    "if trained==1 or get_ready:\n",
    "    history = pd.read_csv(f'./models/{model_name}_history.csv')\n",
    "    display_learning_curves(history)"
   ]
  },
  {
   "cell_type": "markdown",
   "id": "0f115e47",
   "metadata": {},
   "source": [
    "##### Glove + LSTM"
   ]
  },
  {
   "cell_type": "code",
   "execution_count": 35,
   "id": "83bcbc0d",
   "metadata": {},
   "outputs": [
    {
     "name": "stdout",
     "output_type": "stream",
     "text": [
      "Model: \"sequential\"\n",
      "_________________________________________________________________\n",
      "Layer (type)                 Output Shape              Param #   \n",
      "=================================================================\n",
      "embedding (Embedding)        (None, 25, 100)           12545500  \n",
      "_________________________________________________________________\n",
      "lstm (LSTM)                  (None, 25, 128)           117248    \n",
      "_________________________________________________________________\n",
      "global_max_pooling1d (Global (None, 128)               0         \n",
      "_________________________________________________________________\n",
      "dense (Dense)                (None, 64)                8256      \n",
      "_________________________________________________________________\n",
      "dense_1 (Dense)              (None, 1)                 65        \n",
      "=================================================================\n",
      "Total params: 12,671,069\n",
      "Trainable params: 12,671,069\n",
      "Non-trainable params: 0\n",
      "_________________________________________________________________\n",
      "None\n",
      "Epoch 1/20\n",
      "2321/2321 - 18s - loss: 0.4887 - accuracy: 0.7639 - val_loss: 0.4697 - val_accuracy: 0.7740\n",
      "Epoch 2/20\n",
      "2321/2321 - 14s - loss: 0.4690 - accuracy: 0.7752 - val_loss: 0.4623 - val_accuracy: 0.7802\n",
      "Epoch 3/20\n",
      "2321/2321 - 13s - loss: 0.4617 - accuracy: 0.7799 - val_loss: 0.4574 - val_accuracy: 0.7850\n",
      "Epoch 4/20\n",
      "2321/2321 - 14s - loss: 0.4543 - accuracy: 0.7851 - val_loss: 0.4508 - val_accuracy: 0.7854\n",
      "Epoch 5/20\n",
      "2321/2321 - 14s - loss: 0.4534 - accuracy: 0.7849 - val_loss: 0.4475 - val_accuracy: 0.7897\n",
      "Epoch 6/20\n",
      "2321/2321 - 15s - loss: 0.4519 - accuracy: 0.7859 - val_loss: 0.4471 - val_accuracy: 0.7879\n",
      "Epoch 7/20\n",
      "2321/2321 - 14s - loss: 0.4474 - accuracy: 0.7897 - val_loss: 0.4440 - val_accuracy: 0.7921\n",
      "Epoch 8/20\n",
      "2321/2321 - 15s - loss: 0.4458 - accuracy: 0.7904 - val_loss: 0.4431 - val_accuracy: 0.7912\n",
      "Epoch 9/20\n",
      "2321/2321 - 14s - loss: 0.4440 - accuracy: 0.7912 - val_loss: 0.4404 - val_accuracy: 0.7922\n",
      "Epoch 10/20\n",
      "2321/2321 - 14s - loss: 0.4432 - accuracy: 0.7916 - val_loss: 0.4401 - val_accuracy: 0.7934\n",
      "Epoch 11/20\n",
      "2321/2321 - 14s - loss: 0.4368 - accuracy: 0.7958 - val_loss: 0.4408 - val_accuracy: 0.7941\n",
      "Epoch 12/20\n",
      "2321/2321 - 14s - loss: 0.4373 - accuracy: 0.7950 - val_loss: 0.4395 - val_accuracy: 0.7933\n",
      "Epoch 13/20\n",
      "2321/2321 - 15s - loss: 0.4362 - accuracy: 0.7962 - val_loss: 0.4381 - val_accuracy: 0.7957\n",
      "Epoch 14/20\n",
      "2321/2321 - 15s - loss: 0.4320 - accuracy: 0.7995 - val_loss: 0.4365 - val_accuracy: 0.7954\n",
      "Epoch 15/20\n",
      "2321/2321 - 15s - loss: 0.4343 - accuracy: 0.7964 - val_loss: 0.4408 - val_accuracy: 0.7937\n",
      "Epoch 16/20\n",
      "2321/2321 - 14s - loss: 0.4343 - accuracy: 0.7972 - val_loss: 0.4386 - val_accuracy: 0.7929\n",
      "Epoch 17/20\n",
      "2321/2321 - 14s - loss: 0.4306 - accuracy: 0.7998 - val_loss: 0.4344 - val_accuracy: 0.7965\n",
      "Epoch 18/20\n",
      "2321/2321 - 14s - loss: 0.4300 - accuracy: 0.7994 - val_loss: 0.4336 - val_accuracy: 0.7975\n",
      "Epoch 19/20\n",
      "2321/2321 - 15s - loss: 0.4298 - accuracy: 0.7993 - val_loss: 0.4335 - val_accuracy: 0.7962\n",
      "Epoch 20/20\n",
      "2321/2321 - 15s - loss: 0.4300 - accuracy: 0.7990 - val_loss: 0.4334 - val_accuracy: 0.7987\n",
      "313/313 [==============================] - 1s 3ms/step - loss: 0.4268 - accuracy: 0.8035\n"
     ]
    }
   ],
   "source": [
    "model_name = \"glove_lstm_nn\"\n",
    "\n",
    "def train_glove_lstm_model():\n",
    "    \n",
    "    glove_model = tf.keras.models.Sequential()\n",
    "    glove_model.add(embedding_layer) \n",
    "    glove_model.add(tf.keras.layers.LSTM(128,return_sequences=True,dropout=0.2))\n",
    "    glove_model.add(tf.keras.layers.GlobalMaxPooling1D())\n",
    "    glove_model.add(tf.keras.layers.Dense(64,activation='relu')) \n",
    "    glove_model.add(tf.keras.layers.Dense(1,activation='sigmoid')) \n",
    "\n",
    "    print(glove_model.summary())\n",
    "    lr = tf.keras.optimizers.schedules.ExponentialDecay(\n",
    "             initial_learning_rate=1e-2,\n",
    "             decay_steps=10000,\n",
    "             decay_rate=0.9)\n",
    "    \n",
    "    glove_model.compile(loss='binary_crossentropy',\n",
    "                        optimizer=tf.keras.optimizers.Adamax(learning_rate=lr),\n",
    "                        metrics=['accuracy'])\n",
    "    t0 = timer()\n",
    "    hist = glove_model.fit(train_ds,\n",
    "                           epochs=n_epochs,\n",
    "                           verbose=2,\n",
    "                           validation_data=val_ds,\n",
    "                           batch_size=batch_size,\n",
    "                           steps_per_epoch=steps_per_epoch)\n",
    "    t1 = timer() - t0\n",
    "    process_model(glove_model, hist, model_name, test_ds, t1)\n",
    "\n",
    "\n",
    "if not trained:\n",
    "    train_glove_lstm_model()"
   ]
  },
  {
   "cell_type": "code",
   "execution_count": 36,
   "id": "52e65f34",
   "metadata": {},
   "outputs": [
    {
     "data": {
      "image/png": "[encoded data removed]",
      "text/plain": [
       "<Figure size 1440x216 with 2 Axes>"
      ]
     },
     "metadata": {
      "needs_background": "light"
     },
     "output_type": "display_data"
    }
   ],
   "source": [
    "if trained==1:\n",
    "    history = pd.read_csv(f'./models/{model_name}_history.csv')\n",
    "    display_learning_curves(history)"
   ]
  },
  {
   "cell_type": "markdown",
   "id": "51b58877",
   "metadata": {},
   "source": [
    "### Azure"
   ]
  },
  {
   "cell_type": "markdown",
   "id": "14f60a37",
   "metadata": {},
   "source": [
    "#### Requêtes au modèle déployé"
   ]
  },
  {
   "cell_type": "code",
   "execution_count": null,
   "id": "d9fbbadc",
   "metadata": {},
   "outputs": [],
   "source": [
    "def parse_resp(rsp):\n",
    "    return [float(r[1:-1])for r in rsp[1:-1].split(', ')]\n",
    "\n",
    "headers = {'Content-Type': 'application/json'}\n",
    "\n",
    "resp = requests.post(scoring_uri, input_data, headers=headers)\n",
    "\n",
    "res_df[\"pred\"] = parse_resp(resp.text)\n",
    "\n",
    "res_df.head(10)"
   ]
  },
  {
   "cell_type": "code",
   "execution_count": 37,
   "id": "4d15e8f0",
   "metadata": {},
   "outputs": [
    {
     "data": {
      "text/html": [
       "<div>\n",
       "<style scoped>\n",
       "    .dataframe tbody tr th:only-of-type {\n",
       "        vertical-align: middle;\n",
       "    }\n",
       "\n",
       "    .dataframe tbody tr th {\n",
       "        vertical-align: top;\n",
       "    }\n",
       "\n",
       "    .dataframe thead th {\n",
       "        text-align: right;\n",
       "    }\n",
       "</style>\n",
       "<table border=\"1\" class=\"dataframe\">\n",
       "  <thead>\n",
       "    <tr style=\"text-align: right;\">\n",
       "      <th></th>\n",
       "      <th>text</th>\n",
       "      <th>target</th>\n",
       "      <th>pred</th>\n",
       "    </tr>\n",
       "  </thead>\n",
       "  <tbody>\n",
       "    <tr>\n",
       "      <th>0</th>\n",
       "      <td>nice deserve</td>\n",
       "      <td>1</td>\n",
       "      <td>0.965861</td>\n",
       "    </tr>\n",
       "    <tr>\n",
       "      <th>1</th>\n",
       "      <td>watching everybody loves raymond without princey</td>\n",
       "      <td>0</td>\n",
       "      <td>0.406926</td>\n",
       "    </tr>\n",
       "    <tr>\n",
       "      <th>2</th>\n",
       "      <td>looks like one wants play tonight might play alone horny tweets</td>\n",
       "      <td>0</td>\n",
       "      <td>0.232080</td>\n",
       "    </tr>\n",
       "    <tr>\n",
       "      <th>3</th>\n",
       "      <td>morning sowing seeds today finishing soaker talked lots interesting people yesterday blog</td>\n",
       "      <td>1</td>\n",
       "      <td>0.905198</td>\n",
       "    </tr>\n",
       "    <tr>\n",
       "      <th>4</th>\n",
       "      <td>would honored meet pug</td>\n",
       "      <td>1</td>\n",
       "      <td>0.905534</td>\n",
       "    </tr>\n",
       "    <tr>\n",
       "      <th>5</th>\n",
       "      <td>yeah give stuff slot tonight mix ill send u woot woot freestyles</td>\n",
       "      <td>1</td>\n",
       "      <td>0.862093</td>\n",
       "    </tr>\n",
       "    <tr>\n",
       "      <th>6</th>\n",
       "      <td>working today wedding tonight</td>\n",
       "      <td>0</td>\n",
       "      <td>0.596251</td>\n",
       "    </tr>\n",
       "    <tr>\n",
       "      <th>7</th>\n",
       "      <td>lost please help find good home</td>\n",
       "      <td>0</td>\n",
       "      <td>0.013232</td>\n",
       "    </tr>\n",
       "    <tr>\n",
       "      <th>8</th>\n",
       "      <td>gonzi ach well always hard court cheer</td>\n",
       "      <td>1</td>\n",
       "      <td>0.183508</td>\n",
       "    </tr>\n",
       "    <tr>\n",
       "      <th>9</th>\n",
       "      <td>waiting write ss exam next block</td>\n",
       "      <td>0</td>\n",
       "      <td>0.370721</td>\n",
       "    </tr>\n",
       "    <tr>\n",
       "      <th>10</th>\n",
       "      <td>wes said going bed</td>\n",
       "      <td>0</td>\n",
       "      <td>0.515890</td>\n",
       "    </tr>\n",
       "    <tr>\n",
       "      <th>11</th>\n",
       "      <td>somebody actually responded twitter surprise surprise</td>\n",
       "      <td>1</td>\n",
       "      <td>0.840223</td>\n",
       "    </tr>\n",
       "    <tr>\n",
       "      <th>12</th>\n",
       "      <td>clue hopefully tomorrow comes end</td>\n",
       "      <td>1</td>\n",
       "      <td>0.361432</td>\n",
       "    </tr>\n",
       "    <tr>\n",
       "      <th>13</th>\n",
       "      <td>eating lunch loving weather</td>\n",
       "      <td>1</td>\n",
       "      <td>0.987825</td>\n",
       "    </tr>\n",
       "    <tr>\n",
       "      <th>14</th>\n",
       "      <td>hey u r continuously people</td>\n",
       "      <td>0</td>\n",
       "      <td>0.580953</td>\n",
       "    </tr>\n",
       "    <tr>\n",
       "      <th>15</th>\n",
       "      <td>school french final</td>\n",
       "      <td>0</td>\n",
       "      <td>0.227251</td>\n",
       "    </tr>\n",
       "    <tr>\n",
       "      <th>16</th>\n",
       "      <td>love com following site since</td>\n",
       "      <td>1</td>\n",
       "      <td>0.604915</td>\n",
       "    </tr>\n",
       "    <tr>\n",
       "      <th>17</th>\n",
       "      <td>yo luton awesome last night thanks wearing kitty hat</td>\n",
       "      <td>1</td>\n",
       "      <td>0.828358</td>\n",
       "    </tr>\n",
       "    <tr>\n",
       "      <th>18</th>\n",
       "      <td>least done days</td>\n",
       "      <td>1</td>\n",
       "      <td>0.545566</td>\n",
       "    </tr>\n",
       "    <tr>\n",
       "      <th>19</th>\n",
       "      <td>watching conan first night hurray hollywoo lol</td>\n",
       "      <td>1</td>\n",
       "      <td>0.964354</td>\n",
       "    </tr>\n",
       "  </tbody>\n",
       "</table>\n",
       "</div>"
      ],
      "text/plain": [
       "                                                                                         text  \\\n",
       "0   nice deserve                                                                                \n",
       "1   watching everybody loves raymond without princey                                            \n",
       "2   looks like one wants play tonight might play alone horny tweets                             \n",
       "3   morning sowing seeds today finishing soaker talked lots interesting people yesterday blog   \n",
       "4   would honored meet pug                                                                      \n",
       "5   yeah give stuff slot tonight mix ill send u woot woot freestyles                            \n",
       "6   working today wedding tonight                                                               \n",
       "7   lost please help find good home                                                             \n",
       "8   gonzi ach well always hard court cheer                                                      \n",
       "9   waiting write ss exam next block                                                            \n",
       "10  wes said going bed                                                                          \n",
       "11  somebody actually responded twitter surprise surprise                                       \n",
       "12  clue hopefully tomorrow comes end                                                           \n",
       "13  eating lunch loving weather                                                                 \n",
       "14  hey u r continuously people                                                                 \n",
       "15  school french final                                                                         \n",
       "16  love com following site since                                                               \n",
       "17  yo luton awesome last night thanks wearing kitty hat                                        \n",
       "18  least done days                                                                             \n",
       "19  watching conan first night hurray hollywoo lol                                              \n",
       "\n",
       "    target      pred  \n",
       "0   1       0.965861  \n",
       "1   0       0.406926  \n",
       "2   0       0.232080  \n",
       "3   1       0.905198  \n",
       "4   1       0.905534  \n",
       "5   1       0.862093  \n",
       "6   0       0.596251  \n",
       "7   0       0.013232  \n",
       "8   1       0.183508  \n",
       "9   0       0.370721  \n",
       "10  0       0.515890  \n",
       "11  1       0.840223  \n",
       "12  1       0.361432  \n",
       "13  1       0.987825  \n",
       "14  0       0.580953  \n",
       "15  0       0.227251  \n",
       "16  1       0.604915  \n",
       "17  1       0.828358  \n",
       "18  1       0.545566  \n",
       "19  1       0.964354  "
      ]
     },
     "execution_count": 37,
     "metadata": {},
     "output_type": "execute_result"
    }
   ],
   "source": [
    "is_deployed = True\n",
    "\n",
    "smpls = 20\n",
    "\n",
    "def parse_resp(rsp):\n",
    "    return [float(r[1:-1])for r in rsp[1:-1].split(', ')]\n",
    "\n",
    "with open('./azure/azure_uri.txt', 'r') as f:\n",
    "    scoring_uri = f.readline()\n",
    "\n",
    "if is_deployed:\n",
    "    \n",
    "    res_df = pd.DataFrame()\n",
    "    \n",
    "    res_df[\"text\"] = test_df[\"text\"].head(smpls)\n",
    "    \n",
    "    res_df[\"target\"] = test_df[\"target\"].head(smpls)\n",
    "    \n",
    "    input_data = 'X'.join(res_df[\"text\"].tolist())\n",
    "\n",
    "    headers = {'Content-Type': 'application/json'}\n",
    "\n",
    "    resp = requests.post(scoring_uri, input_data, headers=headers)\n",
    "\n",
    "    res_df[\"pred\"] = parse_resp(resp.text)\n",
    "\n",
    "    res_df.to_csv(\"./azure/azure_pred.csv\", index=False)\n",
    "    \n",
    "else:\n",
    "    \n",
    "    res_df = pd.read_csv(\"./azure/azure_pred.csv\")\n",
    "\n",
    "res_df.head(20)"
   ]
  },
  {
   "cell_type": "markdown",
   "id": "fe8bf791",
   "metadata": {},
   "source": [
    "#### Requêtes à l'API Cognitive Services Text Analytics"
   ]
  },
  {
   "cell_type": "code",
   "execution_count": 38,
   "id": "ea8069ed",
   "metadata": {},
   "outputs": [],
   "source": [
    "n_sample = 1000\n",
    "\n",
    "with open(f'./azure/ASTA_key.txt', 'r') as f:\n",
    "    key = f.readline()\n",
    "        \n",
    "with open(f'./azure/ASTA_endpoint.txt', 'r') as f:\n",
    "    endpoint = f.readline()\n",
    "\n",
    "def authenticate_client():\n",
    "    ta_credential = AzureKeyCredential(key)\n",
    "    text_analytics_client = TextAnalyticsClient(\n",
    "            endpoint=endpoint, \n",
    "            credential=ta_credential)\n",
    "    return text_analytics_client\n",
    "\n",
    "if not trained:\n",
    "    client = authenticate_client()"
   ]
  },
  {
   "cell_type": "code",
   "execution_count": 39,
   "id": "59626b5a",
   "metadata": {},
   "outputs": [],
   "source": [
    "def sentiment_analysis_score(client, documents):\n",
    "    pred_labels = []\n",
    "    for response in client.analyze_sentiment(documents=documents):\n",
    "        pos = response.confidence_scores.positive\n",
    "        neg = response.confidence_scores.negative\n",
    "        neu = response.confidence_scores.neutral\n",
    "        s = pos + neg\n",
    "        if s:\n",
    "            pred_labels += [int(pos / s > .5)]\n",
    "        else:\n",
    "            pred_labels += [1]\n",
    "    return pred_labels"
   ]
  },
  {
   "cell_type": "code",
   "execution_count": 40,
   "id": "046a477d",
   "metadata": {},
   "outputs": [],
   "source": [
    "if not trained:\n",
    "    short_df = pd.read_csv('./data/dataset.csv', names=['target', 'id', 'date', 'flag', 'user', 'text'], encoding='latin-1')\n",
    "    short_df = short_df.sample(n=n_sample)\n",
    "    short_df[\"target\"] = short_df[\"target\"].apply(update_target)\n",
    "    docs = short_df[\"text\"].tolist()\n",
    "    lbls = short_df[\"target\"].tolist()\n",
    "    pred_lbls = []\n",
    "    for i in range(10, n_sample + 1, 10):\n",
    "        pred_lbls.extend(sentiment_analysis_score(client, docs[i-10:i]))\n",
    "        \n",
    "    add_result(\"ASTA\", accuracy_score(lbls, pred_lbls), None)\n"
   ]
  },
  {
   "cell_type": "markdown",
   "id": "5dc91d80",
   "metadata": {},
   "source": [
    "### Display results"
   ]
  },
  {
   "cell_type": "code",
   "execution_count": 41,
   "id": "4d2b151a",
   "metadata": {},
   "outputs": [
    {
     "name": "stdout",
     "output_type": "stream",
     "text": [
      "            model_name  accuracy         time      loss\n",
      "0   random_forest       0.74330   4673.442075 NaN      \n",
      "1   random_forest_stem  0.74460   3145.852605 NaN      \n",
      "2   random_forest_lem   0.74370   4217.279929 NaN      \n",
      "3   vanilla_nn          0.76795   4371.061097  0.484366\n",
      "4   stemming_nn         0.76415   3354.503793  0.491544\n",
      "5   lemmatization_nn    0.76780   3995.933181  0.485960\n",
      "6   glove_lstm_cnn      0.78160   814.337397   0.482108\n",
      "7   w2v_lstm_nn         0.79690   611.238391   0.434156\n",
      "8   ASTA                0.72100  NaN          NaN      \n",
      "9   glove_cnn           0.79655   206.239439   0.436982\n",
      "10  glove_lstm_nn       0.80350   289.738853   0.426784\n"
     ]
    }
   ],
   "source": [
    "get_results()"
   ]
  },
  {
   "cell_type": "markdown",
   "id": "fc694d43",
   "metadata": {},
   "source": [
    "### Error source"
   ]
  },
  {
   "cell_type": "code",
   "execution_count": 42,
   "id": "ad9d07a5",
   "metadata": {},
   "outputs": [
    {
     "data": {
      "image/png": "[encoded data removed]",
      "text/plain": [
       "<Figure size 432x288 with 1 Axes>"
      ]
     },
     "metadata": {
      "needs_background": "light"
     },
     "output_type": "display_data"
    },
    {
     "data": {
      "image/png": "[encoded data removed]",
      "text/plain": [
       "<Figure size 432x288 with 1 Axes>"
      ]
     },
     "metadata": {
      "needs_background": "light"
     },
     "output_type": "display_data"
    }
   ],
   "source": [
    "def corr_with_len(name):\n",
    "    model = tf.keras.models.load_model(f\"./models/{name}.h5\")\n",
    "    test_df[\"glove_lstm_pred\"] = model.predict(test_ds)\n",
    "    test_df[\"glove_lstm_pred\"] = test_df[\"glove_lstm_pred\"].apply(lambda x:int(x>.5))\n",
    "    test_df[\"errors\"] = test_df[\"target\"] != test_df[\"glove_lstm_pred\"]\n",
    "    test_df[\"text_len\"] = test_df[\"text\"].apply(lambda x: x.count(\" \") + 1)\n",
    "    sns.barplot(x=\"text_len\", y=\"errors\", data=test_df)\n",
    "    plt.show()\n",
    "    sns.histplot(data=test_df[\"text_len\"])\n",
    "    plt.show()\n",
    "    \n",
    "model_name = \"glove_lstm_nn\"\n",
    "corr_with_len(model_name)"
   ]
  },
  {
   "cell_type": "code",
   "execution_count": null,
   "id": "40d45fc6",
   "metadata": {},
   "outputs": [],
   "source": []
  }
 ],
 "metadata": {
  "kernelspec": {
   "display_name": "Python 3 (ipykernel)",
   "language": "python",
   "name": "python3"
  },
  "language_info": {
   "codemirror_mode": {
    "name": "ipython",
    "version": 3
   },
   "file_extension": ".py",
   "mimetype": "text/x-python",
   "name": "python",
   "nbconvert_exporter": "python",
   "pygments_lexer": "ipython3",
   "version": "3.8.12"
  }
 },
 "nbformat": 4,
 "nbformat_minor": 5
}
